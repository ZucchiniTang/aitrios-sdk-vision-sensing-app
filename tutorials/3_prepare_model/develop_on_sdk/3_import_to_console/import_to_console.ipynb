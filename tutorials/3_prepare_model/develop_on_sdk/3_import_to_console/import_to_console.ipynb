{
 "cells": [
  {
   "cell_type": "code",
   "execution_count": null,
   "metadata": {},
   "outputs": [],
   "source": [
    "# Copyright 2022-2023 Sony Semiconductor Solutions Corp. All rights reserved.\n",
    "#\n",
    "# Licensed under the Apache License, Version 2.0 (the \"License\");\n",
    "# you may not use this file except in compliance with the License.\n",
    "# You may obtain a copy of the License at\n",
    "#\n",
    "#     http://www.apache.org/licenses/LICENSE-2.0\n",
    "#\n",
    "# Unless required by applicable law or agreed to in writing, software\n",
    "# distributed under the License is distributed on an \"AS IS\" BASIS,\n",
    "# WITHOUT WARRANTIES OR CONDITIONS OF ANY KIND, either express or implied.\n",
    "# See the License for the specific language governing permissions and\n",
    "# limitations under the License."
   ]
  },
  {
   "cell_type": "markdown",
   "metadata": {},
   "source": [
    "# Import model to \"**Console**\"\n",
    "\n",
    "This notebook explains the workflow for importing model to \"**Console**\". <br>\n",
    "<br>\n",
    "Instructions are described in [README.md](./README.md)."
   ]
  },
  {
   "cell_type": "markdown",
   "metadata": {},
   "source": [
    "## Imports"
   ]
  },
  {
   "cell_type": "code",
   "execution_count": null,
   "metadata": {},
   "outputs": [],
   "source": [
    "import copy\n",
    "import errno\n",
    "import json\n",
    "from pathlib import Path\n",
    "\n",
    "import jsonschema\n",
    "from console_access_library.client import Client"
   ]
  },
  {
   "cell_type": "markdown",
   "metadata": {},
   "source": [
    "## Load Configurations\n",
    "\n",
    "Load the configuration file and set the variables."
   ]
  },
  {
   "cell_type": "code",
   "execution_count": null,
   "metadata": {},
   "outputs": [],
   "source": [
    "def validate_symlink(path: Path):\n",
    "    if path.is_symlink():\n",
    "        raise OSError(\n",
    "            errno.ELOOP,\n",
    "            \"Symbolic link is not supported. Please use real folder or file\",\n",
    "            f\"{path}\",\n",
    "        )\n",
    "\n",
    "\n",
    "configuration_path = Path(\"./configuration.json\")\n",
    "validate_symlink(configuration_path)\n",
    "\n",
    "# Load configuration file\n",
    "with open(configuration_path, \"r\") as f:\n",
    "    json_load = json.load(f)\n",
    "\n",
    "configuration_schema_path = Path(\"./configuration_schema.json\")\n",
    "validate_symlink(configuration_schema_path)\n",
    "\n",
    "# Load configuration schema file\n",
    "with open(configuration_schema_path, \"r\") as f:\n",
    "    json_schema = json.load(f)\n",
    "\n",
    "# Validate configuration\n",
    "jsonschema.validate(json_load, json_schema)\n",
    "\n",
    "# Set default network_type\n",
    "if json_load.get(\"network_type\") is None:\n",
    "    json_load.update({\"network_type\": \"0\"})"
   ]
  },
  {
   "attachments": {},
   "cell_type": "markdown",
   "metadata": {},
   "source": [
    "## Load an instance of \"**Console Access Library**\" Client\n",
    "\n",
    "Run this cell to restore instance variable 'client_obj' created on a notebook of Set up \"**Console Access Library**\"."
   ]
  },
  {
   "cell_type": "code",
   "execution_count": null,
   "metadata": {},
   "outputs": [],
   "source": [
    "%store -r\n",
    "client_obj: Client = client_obj"
   ]
  },
  {
   "attachments": {},
   "cell_type": "markdown",
   "metadata": {},
   "source": [
    "## Import AI model"
   ]
  },
  {
   "cell_type": "code",
   "execution_count": null,
   "metadata": {},
   "outputs": [],
   "source": [
    "# Get an instance of AI model API\n",
    "ai_model_obj = client_obj.get_ai_model()\n",
    "\n",
    "param_dict = copy.deepcopy(json_load)\n",
    "\n",
    "# Call an API to import AI model into Console for AITRIOS\n",
    "try:\n",
    "    response = ai_model_obj.import_base_model(**param_dict)\n",
    "except Exception as e:\n",
    "    # EXCEPTION\n",
    "    raise e\n",
    "\n",
    "# response error check\n",
    "if \"result\" in response and response[\"result\"] != \"SUCCESS\":\n",
    "    # ERROR\n",
    "    raise ValueError(\"ERROR\", response)\n",
    "\n",
    "# SUCCESS\n",
    "print(\"Start to import the AI model.\" + \" \\n\\tmodel_id: \" + json_load[\"model_id\"])"
   ]
  },
  {
   "attachments": {},
   "cell_type": "markdown",
   "metadata": {},
   "source": [
    "## Get AI model status"
   ]
  },
  {
   "cell_type": "code",
   "execution_count": null,
   "metadata": {},
   "outputs": [],
   "source": [
    "def get_base_model_status(model_id: str):\n",
    "    # AI model status on Console\n",
    "    status_dictionary = {\n",
    "        \"00\": \"Conversion project created\",\n",
    "        \"01\": \"Importing completed (Before conversion)\",\n",
    "        \"02\": \"Converting...\",\n",
    "        \"03\": \"Conversion failed\",\n",
    "        \"04\": \"Converted\",\n",
    "        \"05\": \"Adding to configuration\",\n",
    "        \"06\": \"Conversion failed\",\n",
    "        \"07\": \"Conversion completed\",\n",
    "        \"11\": \"Saving\",\n",
    "    }\n",
    "    # Flag for check\n",
    "    exist_flag = False\n",
    "    # Call an API for get AI model info\n",
    "    try:\n",
    "        response = ai_model_obj.get_base_model_status(model_id)\n",
    "    except Exception as e:\n",
    "        # EXCEPTION\n",
    "        raise e\n",
    "\n",
    "    # response error check\n",
    "    if \"result\" in response and response[\"result\"] != \"SUCCESS\":\n",
    "        # ERROR\n",
    "        raise ValueError(\"ERROR\", response)\n",
    "\n",
    "    # SUCCESS\n",
    "    # Create output list\n",
    "    if \"projects\" in response:\n",
    "        project = response[\"projects\"][0]\n",
    "        if \"versions\" in project:\n",
    "            version_status = project[\"versions\"][0][\"version_status\"]\n",
    "            exist_flag = True\n",
    "\n",
    "    if exist_flag:\n",
    "        return status_dictionary.get(\n",
    "            version_status, \"Unknown status '\" + version_status + \"'\"\n",
    "        )\n",
    "    else:\n",
    "        raise Exception(\"AI model is not found. (model_id: \" + model_id + \")\")\n",
    "\n",
    "\n",
    "get_status = get_base_model_status(json_load[\"model_id\"])\n",
    "print(get_status + \" \\n\\tmodel_id: \" + json_load[\"model_id\"])"
   ]
  },
  {
   "attachments": {},
   "cell_type": "markdown",
   "metadata": {},
   "source": [
    "## Convert AI model"
   ]
  },
  {
   "cell_type": "code",
   "execution_count": null,
   "metadata": {},
   "outputs": [],
   "source": [
    "# Call an API to convert AI model on Console for AITRIOS\n",
    "try:\n",
    "    response = ai_model_obj.publish_model(model_id=json_load[\"model_id\"])\n",
    "except Exception as e:\n",
    "    # EXCEPTION\n",
    "    raise e\n",
    "\n",
    "# response error check\n",
    "if \"result\" in response and response[\"result\"] != \"SUCCESS\":\n",
    "    # ERROR\n",
    "    raise ValueError(\"ERROR\", response)\n",
    "\n",
    "# SUCCESS\n",
    "print(\"Start to convert the AI model.\" + \" \\n\\tmodel_id: \" + json_load[\"model_id\"])"
   ]
  },
  {
   "attachments": {},
   "cell_type": "markdown",
   "metadata": {},
   "source": [
    "## Get AI model status after conversion\n",
    "\n",
    "Converting takes time.<br>\n",
    "\n",
    "To complete the conversion, ensure that the conversion status is **`Conversion completed`**.\n",
    "\n",
    "After you start the conversion, run the following code cell to check the status :"
   ]
  },
  {
   "cell_type": "code",
   "execution_count": null,
   "metadata": {},
   "outputs": [],
   "source": [
    "convert_status = get_base_model_status(json_load[\"model_id\"])\n",
    "print(convert_status + \" \\n\\tmodel_id: \" + json_load[\"model_id\"])"
   ]
  }
 ],
 "metadata": {
  "kernelspec": {
   "display_name": "Python 3.8.14 64-bit",
   "language": "python",
   "name": "python3"
  },
  "language_info": {
   "codemirror_mode": {
    "name": "ipython",
    "version": 3
   },
   "file_extension": ".py",
   "mimetype": "text/x-python",
   "name": "python",
   "nbconvert_exporter": "python",
   "pygments_lexer": "ipython3",
   "version": "3.8.16"
  },
  "orig_nbformat": 4,
  "vscode": {
   "interpreter": {
    "hash": "949777d72b0d2535278d3dc13498b2535136f6dfe0678499012e853ee9abcab1"
   }
  }
 },
 "nbformat": 4,
 "nbformat_minor": 2
}
