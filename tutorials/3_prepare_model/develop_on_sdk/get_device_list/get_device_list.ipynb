{
 "cells": [
  {
   "cell_type": "code",
   "execution_count": 1,
   "metadata": {},
   "outputs": [],
   "source": [
    "# Copyright 2022-2023 Sony Semiconductor Solutions Corp. All rights reserved.\n",
    "#\n",
    "# Licensed under the Apache License, Version 2.0 (the \"License\");\n",
    "# you may not use this file except in compliance with the License.\n",
    "# You may obtain a copy of the License at\n",
    "#\n",
    "#     http://www.apache.org/licenses/LICENSE-2.0\n",
    "#\n",
    "# Unless required by applicable law or agreed to in writing, software\n",
    "# distributed under the License is distributed on an \"AS IS\" BASIS,\n",
    "# WITHOUT WARRANTIES OR CONDITIONS OF ANY KIND, either express or implied.\n",
    "# See the License for the specific language governing permissions and\n",
    "# limitations under the License."
   ]
  },
  {
   "attachments": {},
   "cell_type": "markdown",
   "metadata": {},
   "source": [
    "# Get device list\n",
    "\n",
    "This notebook explains the workflow for retrieving the list of devices from the \"**Console for AITRIOS**\". \n",
    "\n",
    "Instructions are described in [README.md](./README.md)."
   ]
  },
  {
   "attachments": {},
   "cell_type": "markdown",
   "metadata": {},
   "source": [
    "## Imports"
   ]
  },
  {
   "cell_type": "code",
   "execution_count": 2,
   "metadata": {},
   "outputs": [],
   "source": [
    "import pandas as pd\n",
    "from console_access_library.client import Client\n",
    "from IPython.display import display"
   ]
  },
  {
   "attachments": {},
   "cell_type": "markdown",
   "metadata": {},
   "source": [
    "## Load an instance of \"**Console Access Library**\" client\n",
    "\n",
    "Run this cell to restore instance variable 'client_obj' created on a notebook of Set up \"**Console Access Library**\"."
   ]
  },
  {
   "cell_type": "code",
   "execution_count": 3,
   "metadata": {},
   "outputs": [],
   "source": [
    "%store -r\n",
    "client_obj: Client = client_obj"
   ]
  },
  {
   "attachments": {},
   "cell_type": "markdown",
   "metadata": {},
   "source": [
    "## Get device list"
   ]
  },
  {
   "cell_type": "code",
   "execution_count": null,
   "metadata": {},
   "outputs": [],
   "source": [
    "# Get an instance of device management API\n",
    "device_management_obj = client_obj.get_device_management()\n",
    "\n",
    "# Call an API for get device list\n",
    "try:\n",
    "    response = device_management_obj.get_devices()\n",
    "except Exception as e:\n",
    "    # EXCEPTION\n",
    "    raise e\n",
    "\n",
    "# response error check\n",
    "if \"result\" in response and response[\"result\"] != \"SUCCESS\":\n",
    "    # ERROR\n",
    "    raise ValueError(\"ERROR\", response)\n",
    "\n",
    "# Create output list\n",
    "model_lists = []\n",
    "devices = response.get(\"devices\", [])\n",
    "\n",
    "for device in devices:\n",
    "    device_id = device.get(\"device_id\", \"\")\n",
    "\n",
    "    model_list = []\n",
    "    model_list.append(device_id)\n",
    "    models = device.get(\"models\", [])\n",
    "    if any(models):\n",
    "        for model in models:\n",
    "            version_id = \"\"\n",
    "            model_version_id = model.get(\"model_version_id\", \"\")\n",
    "            if len(model_version_id) == 0:\n",
    "                # There is no models deployed on the device\n",
    "                model_id = \"\"\n",
    "            elif \":\" not in model_version_id:\n",
    "                # The model deployed to the device does not exist in Console database\n",
    "                model_id = model_version_id\n",
    "            else:\n",
    "                # Split string to model_id and version_id\n",
    "                model_version_id_list = model_version_id.split(\":v\")\n",
    "\n",
    "                model_id = model_version_id_list[0]\n",
    "                version_id = model_version_id_list[1]\n",
    "\n",
    "            model_list.append(model_id)\n",
    "            model_list.append(version_id)\n",
    "\n",
    "        # Fill missing elements with empty string\n",
    "        model_list = model_list + [\"\" for x in range(9 - len(model_list))]\n",
    "\n",
    "        model_lists.append(model_list)\n",
    "    else:\n",
    "        # There is no models deployed on the device\n",
    "        model_list.append(\"\")\n",
    "\n",
    "        # Fill missing elements with empty string\n",
    "        model_list = model_list + [\"\" for x in range(9 - len(model_list))]\n",
    "\n",
    "        model_lists.append(model_list)\n",
    "\n",
    "if len(model_lists) == 0:\n",
    "    raise Exception(\"There is no data in the device list.\")\n",
    "\n",
    "output_frame = pd.DataFrame(\n",
    "    model_lists, columns=[\"Device ID\", \"c1\", \"c2\", \"c3\", \"c4\", \"c5\", \"c6\", \"c7\", \"c8\"]\n",
    ")\n",
    "\n",
    "# Specify \"Device ID\" column as index row\n",
    "output_frame.set_index(\"Device ID\", inplace=True)\n",
    "\n",
    "# Set column to 2 rows\n",
    "double_columns_num = pd.MultiIndex.from_arrays(\n",
    "    [\n",
    "        [\"Model 1\", \" \", \"Model 2\", \" \", \"Model 3\", \" \", \"Model 4\", \" \"],\n",
    "        [\"ID\", \"Version\", \"ID\", \"Version\", \"ID\", \"Version\", \"ID\", \"Version\"],\n",
    "    ]\n",
    ")\n",
    "\n",
    "# Change column\n",
    "output_frame.columns = double_columns_num\n",
    "\n",
    "# setting backup\n",
    "backup_max_rows = pd.options.display.max_rows\n",
    "# output limit clear\n",
    "pd.set_option(\"display.max_rows\", None)\n",
    "display(output_frame)\n",
    "# setting restore\n",
    "pd.set_option(\"display.max_rows\", backup_max_rows)"
   ]
  }
 ],
 "metadata": {
  "kernelspec": {
   "display_name": "Python 3",
   "language": "python",
   "name": "python3"
  },
  "language_info": {
   "codemirror_mode": {
    "name": "ipython",
    "version": 3
   },
   "file_extension": ".py",
   "mimetype": "text/x-python",
   "name": "python",
   "nbconvert_exporter": "python",
   "pygments_lexer": "ipython3",
   "version": "3.8.15 (default, Nov 15 2022, 22:06:14) \n[GCC 10.2.1 20210110]"
  },
  "orig_nbformat": 4,
  "vscode": {
   "interpreter": {
    "hash": "949777d72b0d2535278d3dc13498b2535136f6dfe0678499012e853ee9abcab1"
   }
  }
 },
 "nbformat": 4,
 "nbformat_minor": 2
}
