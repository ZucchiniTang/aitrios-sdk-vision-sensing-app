{
 "cells": [
  {
   "cell_type": "code",
   "execution_count": 67,
   "metadata": {},
   "outputs": [],
   "source": [
    "# Copyright 2022-2023 Sony Semiconductor Solutions Corp. All rights reserved.\n",
    "#\n",
    "# Licensed under the Apache License, Version 2.0 (the \"License\");\n",
    "# you may not use this file except in compliance with the License.\n",
    "# You may obtain a copy of the License at\n",
    "#\n",
    "#     http://www.apache.org/licenses/LICENSE-2.0\n",
    "#\n",
    "# Unless required by applicable law or agreed to in writing, software\n",
    "# distributed under the License is distributed on an \"AS IS\" BASIS,\n",
    "# WITHOUT WARRANTIES OR CONDITIONS OF ANY KIND, either express or implied.\n",
    "# See the License for the specific language governing permissions and\n",
    "# limitations under the License."
   ]
  },
  {
   "attachments": {},
   "cell_type": "markdown",
   "metadata": {},
   "source": [
    "# Deploy model to device\n",
    "\n",
    "This notebook explains the workflow for deploying a AI model to edge AI devices using \"**Console for AITRIOS**\". \n",
    "\n",
    "Instructions are described in [README.md](./README.md)."
   ]
  },
  {
   "attachments": {},
   "cell_type": "markdown",
   "metadata": {},
   "source": [
    "## Imports"
   ]
  },
  {
   "cell_type": "code",
   "execution_count": 68,
   "metadata": {},
   "outputs": [],
   "source": [
    "import errno\n",
    "import json\n",
    "from pathlib import Path\n",
    "\n",
    "import jsonschema\n",
    "import numpy as np\n",
    "import pandas as pd\n",
    "from console_access_library.client import Client\n",
    "from IPython.display import display"
   ]
  },
  {
   "attachments": {},
   "cell_type": "markdown",
   "metadata": {},
   "source": [
    "## Load Configurations\n",
    "Load the configuration file and set the variables."
   ]
  },
  {
   "cell_type": "code",
   "execution_count": 69,
   "metadata": {},
   "outputs": [],
   "source": [
    "def validate_symlink(path: Path):\n",
    "    if path.is_symlink():\n",
    "        raise OSError(\n",
    "            errno.ELOOP,\n",
    "            \"Symbolic link is not supported. Please use real folder or file\",\n",
    "            f\"{path}\",\n",
    "        )\n",
    "\n",
    "\n",
    "configuration_path = Path(\"./configuration.json\")\n",
    "validate_symlink(configuration_path)\n",
    "\n",
    "# Load configuration file\n",
    "with open(configuration_path, \"r\") as f:\n",
    "    json_load = json.load(f)\n",
    "\n",
    "configuration_schema_path = Path(\"./configuration_schema.json\")\n",
    "validate_symlink(configuration_schema_path)\n",
    "\n",
    "# Load configuration schema file\n",
    "with open(configuration_schema_path, \"r\") as f:\n",
    "    json_schema = json.load(f)\n",
    "\n",
    "# Validate configuration\n",
    "jsonschema.validate(json_load, json_schema)\n",
    "\n",
    "# Set values\n",
    "should_create_deploy_config = json_load[\"should_create_deploy_config\"]\n",
    "\n",
    "if should_create_deploy_config is True:\n",
    "    config_param = {}\n",
    "    config_param[\"config_id\"] = json_load[\"config_id\"]\n",
    "    if \"create_config\" in json_load:\n",
    "        config_param[\"model_id\"] = json_load[\"create_config\"][\"model_id\"]\n",
    "        if \"model_version_number\" in json_load[\"create_config\"]:\n",
    "            config_param[\"model_version_number\"] = json_load[\"create_config\"][\n",
    "                \"model_version_number\"\n",
    "            ]\n",
    "        if \"comment\" in json_load[\"create_config\"]:\n",
    "            config_param[\"comment\"] = json_load[\"create_config\"][\"comment\"]\n",
    "\n",
    "deploy_param = {}\n",
    "deploy_param[\"config_id\"] = json_load[\"config_id\"]\n",
    "device_ids_list = json_load[\"device_ids\"]\n",
    "device_ids = \",\".join(device_ids_list)\n",
    "deploy_param[\"device_ids\"] = device_ids\n",
    "if \"replace_model_id\" in json_load:\n",
    "    deploy_param[\"replace_model_id\"] = json_load[\"replace_model_id\"]\n",
    "if \"comment\" in json_load:\n",
    "    deploy_param[\"comment\"] = json_load[\"comment\"]"
   ]
  },
  {
   "attachments": {},
   "cell_type": "markdown",
   "metadata": {},
   "source": [
    "## Load an instance of \"**Console Access Library**\" client\n",
    "\n",
    "Run this cell to restore instance variable 'client_obj' created on a notebook of Set up \"**Console Access Library**\"."
   ]
  },
  {
   "cell_type": "code",
   "execution_count": 70,
   "metadata": {},
   "outputs": [],
   "source": [
    "%store -r\n",
    "client_obj: Client = client_obj"
   ]
  },
  {
   "attachments": {},
   "cell_type": "markdown",
   "metadata": {},
   "source": [
    "## Create a deploy configuration"
   ]
  },
  {
   "cell_type": "code",
   "execution_count": null,
   "metadata": {},
   "outputs": [],
   "source": [
    "# Get an instance of deploy API\n",
    "deployment_obj = client_obj.get_deployment()\n",
    "\n",
    "if should_create_deploy_config is True:\n",
    "    # Call an API to create deploy configuration\n",
    "    try:\n",
    "        response = deployment_obj.create_deploy_configuration(**config_param)\n",
    "    except Exception as e:\n",
    "        # EXCEPTION\n",
    "        raise e\n",
    "\n",
    "    # response error check\n",
    "    if \"result\" in response and response[\"result\"] != \"SUCCESS\":\n",
    "        # ERROR\n",
    "        raise ValueError(\"ERROR\", response)\n",
    "\n",
    "    # SUCCESS\n",
    "    print(\"Deploy configuration was created.\")\n"
   ]
  },
  {
   "attachments": {},
   "cell_type": "markdown",
   "metadata": {},
   "source": [
    "## Deploy model to device\n",
    "Start deploying to devices by running the following code :"
   ]
  },
  {
   "cell_type": "code",
   "execution_count": null,
   "metadata": {},
   "outputs": [],
   "source": [
    "# Call an API to deploy the model to device\n",
    "try:\n",
    "    response = deployment_obj.deploy_by_configuration(**deploy_param)\n",
    "except Exception as e:\n",
    "    # EXCEPTION\n",
    "    raise e\n",
    "\n",
    "# response error check\n",
    "if \"result\" in response and response[\"result\"] != \"SUCCESS\":\n",
    "    # ERROR\n",
    "    raise ValueError(\"ERROR\", response)\n",
    "\n",
    "# SUCCESS\n",
    "print(\"Start to deploy the model.\")"
   ]
  },
  {
   "attachments": {},
   "cell_type": "markdown",
   "metadata": {},
   "source": [
    "## Check deployment status\n",
    "Deploying to devices takes time.\n",
    "\n",
    "To complete the deployment, ensure that the deployment status is **`Success`**.\n",
    "\n",
    "After you start the deployment, run the following code cell to check the status :"
   ]
  },
  {
   "cell_type": "code",
   "execution_count": null,
   "metadata": {},
   "outputs": [],
   "source": [
    "# Deploy status on Console\n",
    "deploy_status_dictionary = {\n",
    "    \"0\": \"Deploying\",\n",
    "    \"1\": \"Success\",\n",
    "    \"2\": \"Fail\",\n",
    "    \"3\": \"Cancel\",\n",
    "}\n",
    "# Model status on Console\n",
    "model_status_dictionary = {\n",
    "    \"0\": \"Waiting for execution\",\n",
    "    \"1\": \"Deploying\",\n",
    "    \"2\": \"Success\",\n",
    "    \"3\": \"Fail\",\n",
    "}\n",
    "\n",
    "deploy_ids = []\n",
    "config_ids = []\n",
    "deploy_statuses = []\n",
    "model_statuses = []\n",
    "update_dates = []\n",
    "device_id_table = []\n",
    "for device_id in device_ids_list:\n",
    "    # Call an API to get deploy history\n",
    "    try:\n",
    "        response = deployment_obj.get_deploy_history(device_id)\n",
    "    except Exception as e:\n",
    "        # EXCEPTION\n",
    "        raise e\n",
    "\n",
    "    # response error check\n",
    "    if \"result\" in response and response[\"result\"] != \"SUCCESS\":\n",
    "        # ERROR\n",
    "        raise ValueError(\"ERROR\", response)\n",
    "\n",
    "    # Create an output table\n",
    "    deploys = response.get(\"deploys\", [])\n",
    "    cnt = 0\n",
    "    for deploy in deploys:\n",
    "        model = deploy.get(\"model\", {})\n",
    "        model_target_flg = model.get(\"model_target_flg\", \"\")\n",
    "        config_id = deploy.get(\"config_id\", \"\")\n",
    "        if model_target_flg == \"1\" and json_load[\"config_id\"] == config_id:\n",
    "            # Set device id\n",
    "            if cnt == 0:\n",
    "                device_id_table.append(device_id)\n",
    "            else:\n",
    "                # Fill a cell with a NAN\n",
    "                device_id_table.append(np.NaN)\n",
    "            # Set deploy ID\n",
    "            deploy_id = deploy.get(\"id\", \"\")\n",
    "            deploy_ids.append(deploy_id)\n",
    "            # Set config ID\n",
    "            config_ids.append(config_id)\n",
    "            # Set deploy status\n",
    "            deploy_status = deploy.get(\"deploy_status\", \"\")\n",
    "            deploy_statuses.append(\n",
    "                deploy_status_dictionary.get(\n",
    "                    deploy_status, \"Unknown status '\" + deploy_status + \"'\"\n",
    "                )\n",
    "            )\n",
    "            # Set model status\n",
    "            model_status = model.get(\"model_status\", \"\")\n",
    "            model_statuses.append(\n",
    "                model_status_dictionary.get(\n",
    "                    model_status, \"Unknown status '\" + model_status + \"'\"\n",
    "                )\n",
    "            )\n",
    "            # Set update date\n",
    "            update_dates.append(deploy.get(\"upd_date\", \"\"))\n",
    "\n",
    "            cnt += 1\n",
    "            # Display up to 5 deployment results\n",
    "            if cnt == 5:\n",
    "                break\n",
    "\n",
    "if len(deploy_ids) == 0:\n",
    "    raise Exception(\"There is no data in the deploy history list.\")\n",
    "\n",
    "output_frame = pd.DataFrame(\n",
    "    {\n",
    "        \"device_id\": device_id_table,\n",
    "        \"deploy_id\": deploy_ids,\n",
    "        \"config_id\": config_ids,\n",
    "        \"deploy_status\": deploy_statuses,\n",
    "        \"model_status\": model_statuses,\n",
    "        \"update_date\": update_dates,\n",
    "    }\n",
    ")\n",
    "output_frame = output_frame.fillna(\"-\")\n",
    "# setting backup\n",
    "backup_max_rows = pd.options.display.max_rows\n",
    "# output limit clear\n",
    "pd.set_option(\"display.max_rows\", None)\n",
    "display(output_frame)\n",
    "# setting restore\n",
    "pd.set_option(\"display.max_rows\", backup_max_rows)"
   ]
  }
 ],
 "metadata": {
  "kernelspec": {
   "display_name": "Python 3",
   "language": "python",
   "name": "python3"
  },
  "language_info": {
   "codemirror_mode": {
    "name": "ipython",
    "version": 3
   },
   "file_extension": ".py",
   "mimetype": "text/x-python",
   "name": "python",
   "nbconvert_exporter": "python",
   "pygments_lexer": "ipython3",
   "version": "3.8.15"
  },
  "orig_nbformat": 4,
  "vscode": {
   "interpreter": {
    "hash": "949777d72b0d2535278d3dc13498b2535136f6dfe0678499012e853ee9abcab1"
   }
  }
 },
 "nbformat": 4,
 "nbformat_minor": 2
}
