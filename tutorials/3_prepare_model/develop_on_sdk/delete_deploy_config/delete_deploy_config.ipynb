{
 "cells": [
  {
   "cell_type": "code",
   "execution_count": 12,
   "metadata": {},
   "outputs": [],
   "source": [
    "# Copyright 2022-2023 Sony Semiconductor Solutions Corp. All rights reserved.\n",
    "#\n",
    "# Licensed under the Apache License, Version 2.0 (the \"License\");\n",
    "# you may not use this file except in compliance with the License.\n",
    "# You may obtain a copy of the License at\n",
    "#\n",
    "#     http://www.apache.org/licenses/LICENSE-2.0\n",
    "#\n",
    "# Unless required by applicable law or agreed to in writing, software\n",
    "# distributed under the License is distributed on an \"AS IS\" BASIS,\n",
    "# WITHOUT WARRANTIES OR CONDITIONS OF ANY KIND, either express or implied.\n",
    "# See the License for the specific language governing permissions and\n",
    "# limitations under the License."
   ]
  },
  {
   "attachments": {},
   "cell_type": "markdown",
   "metadata": {},
   "source": [
    "# Delete deploy configuration\n",
    "\n",
    "This notebook explains the workflow for deleting a deploy configuration.\n",
    "\n",
    "Instructions are described in [README.md](./README.md)."
   ]
  },
  {
   "attachments": {},
   "cell_type": "markdown",
   "metadata": {},
   "source": [
    "## Imports"
   ]
  },
  {
   "cell_type": "code",
   "execution_count": 13,
   "metadata": {},
   "outputs": [],
   "source": [
    "import errno\n",
    "import json\n",
    "from pathlib import Path\n",
    "\n",
    "import jsonschema\n",
    "from console_access_library.client import Client"
   ]
  },
  {
   "attachments": {},
   "cell_type": "markdown",
   "metadata": {},
   "source": [
    "## Load Configurations\n",
    "\n",
    "Load the configuration file and set the variables."
   ]
  },
  {
   "cell_type": "code",
   "execution_count": 14,
   "metadata": {},
   "outputs": [],
   "source": [
    "def validate_symlink(path: Path):\n",
    "    if path.is_symlink():\n",
    "        raise OSError(\n",
    "            errno.ELOOP,\n",
    "            \"Symbolic link is not supported. Please use real folder or file\",\n",
    "            f\"{path}\",\n",
    "        )\n",
    "\n",
    "\n",
    "configuration_path = Path(\"./configuration.json\")\n",
    "validate_symlink(configuration_path)\n",
    "\n",
    "# Load configuration file\n",
    "with open(configuration_path, \"r\") as f:\n",
    "    json_load = json.load(f)\n",
    "\n",
    "configuration_schema_path = Path(\"./configuration_schema.json\")\n",
    "validate_symlink(configuration_schema_path)\n",
    "\n",
    "# Load configuration schema file\n",
    "with open(configuration_schema_path, \"r\") as f:\n",
    "    json_schema = json.load(f)\n",
    "\n",
    "# Validate configuration\n",
    "jsonschema.validate(json_load, json_schema)"
   ]
  },
  {
   "attachments": {},
   "cell_type": "markdown",
   "metadata": {},
   "source": [
    "## Load an instance of \"**Console Access Library**\" client\n",
    "\n",
    "Run this cell to restore instance variable 'client_obj' created on a notebook of Set up \"**Console Access Library**\"."
   ]
  },
  {
   "cell_type": "code",
   "execution_count": 15,
   "metadata": {},
   "outputs": [],
   "source": [
    "%store -r\n",
    "client_obj: Client = client_obj"
   ]
  },
  {
   "attachments": {},
   "cell_type": "markdown",
   "metadata": {},
   "source": [
    "## Delete deploy configuration"
   ]
  },
  {
   "cell_type": "code",
   "execution_count": null,
   "metadata": {},
   "outputs": [],
   "source": [
    "# Get an instance of deploy API\n",
    "deployment_obj = client_obj.get_deployment()\n",
    "\n",
    "# Call an API to delete a deploy configuration\n",
    "try:\n",
    "    response = deployment_obj.delete_deploy_configuration(json_load[\"config_id\"])\n",
    "except Exception as e:\n",
    "    # EXCEPTION\n",
    "    raise e\n",
    "\n",
    "# response error check\n",
    "if \"result\" in response and response[\"result\"] != \"SUCCESS\":\n",
    "    # ERROR\n",
    "    raise ValueError(\"ERROR\", response)\n",
    "\n",
    "# SUCCESS\n",
    "print(\"The configuration was deleted successfully.\")"
   ]
  }
 ],
 "metadata": {
  "kernelspec": {
   "display_name": "Python 3",
   "language": "python",
   "name": "python3"
  },
  "language_info": {
   "codemirror_mode": {
    "name": "ipython",
    "version": 3
   },
   "file_extension": ".py",
   "mimetype": "text/x-python",
   "name": "python",
   "nbconvert_exporter": "python",
   "pygments_lexer": "ipython3",
   "version": "3.10.8 (tags/v3.10.8:aaaf517, Oct 11 2022, 16:50:30) [MSC v.1933 64 bit (AMD64)]"
  },
  "orig_nbformat": 4,
  "vscode": {
   "interpreter": {
    "hash": "8280940131f971f4bf470f5c5c426a38ae556499ed4c7a649b5b5a461b0612e5"
   }
  }
 },
 "nbformat": 4,
 "nbformat_minor": 2
}
