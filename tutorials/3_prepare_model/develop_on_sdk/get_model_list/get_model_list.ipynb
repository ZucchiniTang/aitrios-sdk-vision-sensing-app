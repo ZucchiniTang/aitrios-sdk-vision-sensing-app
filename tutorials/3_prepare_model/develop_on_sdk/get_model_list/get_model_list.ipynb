{
 "cells": [
  {
   "cell_type": "code",
   "execution_count": null,
   "metadata": {},
   "outputs": [],
   "source": [
    "# Copyright 2022-2023 Sony Semiconductor Solutions Corp. All rights reserved.\n",
    "#\n",
    "# Licensed under the Apache License, Version 2.0 (the \"License\");\n",
    "# you may not use this file except in compliance with the License.\n",
    "# You may obtain a copy of the License at\n",
    "#\n",
    "#     http://www.apache.org/licenses/LICENSE-2.0\n",
    "#\n",
    "# Unless required by applicable law or agreed to in writing, software\n",
    "# distributed under the License is distributed on an \"AS IS\" BASIS,\n",
    "# WITHOUT WARRANTIES OR CONDITIONS OF ANY KIND, either express or implied.\n",
    "# See the License for the specific language governing permissions and\n",
    "# limitations under the License."
   ]
  },
  {
   "attachments": {},
   "cell_type": "markdown",
   "metadata": {},
   "source": [
    "# Get list of AI model from \"**Console for AITRIOS**\"\n",
    "\n",
    "This notebook explains the workflow for retrieving the list of AI model from \"**Console for AITRIOS**\". <br>\n",
    "<br>\n",
    "Instructions are described in [README.md](./README.md)."
   ]
  },
  {
   "cell_type": "markdown",
   "metadata": {},
   "source": [
    "## Imports"
   ]
  },
  {
   "cell_type": "code",
   "execution_count": null,
   "metadata": {},
   "outputs": [],
   "source": [
    "import pandas as pd\n",
    "from console_access_library.client import Client\n",
    "from IPython.display import display"
   ]
  },
  {
   "attachments": {},
   "cell_type": "markdown",
   "metadata": {},
   "source": [
    "## Load an instance of \"**Console Access Library**\" Client\n",
    "\n",
    "Run this cell to restore instance variable 'client_obj' created on a notebook of Set up \"**Console Access Library**\"."
   ]
  },
  {
   "cell_type": "code",
   "execution_count": null,
   "metadata": {},
   "outputs": [],
   "source": [
    "%store -r\n",
    "client_obj: Client = client_obj"
   ]
  },
  {
   "cell_type": "markdown",
   "metadata": {},
   "source": [
    "## Get AI model list"
   ]
  },
  {
   "cell_type": "code",
   "execution_count": null,
   "metadata": {},
   "outputs": [],
   "source": [
    "# Get an instance of AI model API\n",
    "ai_model_obj = client_obj.get_ai_model()\n",
    "\n",
    "# AI model status on Console\n",
    "status_dictionary = {\n",
    "    \"00\": \"Conversion project created\",\n",
    "    \"01\": \"Importing completed (Before conversion)\",\n",
    "    \"02\": \"Converting...\",\n",
    "    \"03\": \"Conversion failed\",\n",
    "    \"04\": \"Converted\",\n",
    "    \"05\": \"Adding to configuration\",\n",
    "    \"06\": \"Conversion failed\",\n",
    "    \"07\": \"Conversion completed\",\n",
    "    \"11\": \"Saving\",\n",
    "}\n",
    "\n",
    "model_ids = []\n",
    "model_project_names = []\n",
    "version_numbers = []\n",
    "version_statuses = []\n",
    "latest_flags = []\n",
    "\n",
    "# Call an API for get AI model list\n",
    "try:\n",
    "    response = ai_model_obj.get_models()\n",
    "except Exception as e:\n",
    "    # EXCEPTION\n",
    "    raise e\n",
    "\n",
    "# response error check\n",
    "if \"result\" in response and response[\"result\"] != \"SUCCESS\":\n",
    "    # ERROR\n",
    "    raise ValueError(\"ERROR\", response)\n",
    "\n",
    "# SUCCESS\n",
    "# Create output list\n",
    "models = response[\"models\"]\n",
    "for model in models:\n",
    "    projects = model[\"projects\"]\n",
    "    for project in projects:\n",
    "        versions = project[\"versions\"]\n",
    "        for version in versions:\n",
    "            model_ids.append(model[\"model_id\"])\n",
    "            model_project_names.append(project[\"model_project_name\"])\n",
    "            version_numbers.append(version[\"version_number\"])\n",
    "            latest_flags.append(version[\"latest_flg\"])\n",
    "            version_status = version[\"version_status\"]\n",
    "            version_statuses.append(\n",
    "                status_dictionary.get(\n",
    "                    version_status, \"Unknown status '\" + version_status + \"'\"\n",
    "                )\n",
    "            )\n",
    "if len(model_ids) == 0:\n",
    "    raise Exception(\"AI model list is not found.\")\n",
    "\n",
    "output_frame = pd.DataFrame(\n",
    "    {\n",
    "        \"model_id\": model_ids,\n",
    "        \"project_name\": model_project_names,\n",
    "        \"version_number\": version_numbers,\n",
    "        \"version_status\": version_statuses,\n",
    "        \"latest_flag\": latest_flags,\n",
    "    }\n",
    ")\n",
    "# setting backup\n",
    "backup_max_rows = pd.options.display.max_rows\n",
    "# output limit clear\n",
    "pd.set_option(\"display.max_rows\", None)\n",
    "# View results\n",
    "display(output_frame)\n",
    "# setting restore\n",
    "pd.set_option(\"display.max_rows\", backup_max_rows)"
   ]
  },
  {
   "cell_type": "code",
   "execution_count": null,
   "metadata": {},
   "outputs": [],
   "source": [
    "# Uncomment below to filter by ID\n",
    "# QUERY_MODEL_ID = \"your_model_id\"\n",
    "# output_frame.query(f\"model_id == '{QUERY_MODEL_ID}'\")"
   ]
  }
 ],
 "metadata": {
  "kernelspec": {
   "display_name": "Python 3.8.14 64-bit",
   "language": "python",
   "name": "python3"
  },
  "language_info": {
   "codemirror_mode": {
    "name": "ipython",
    "version": 3
   },
   "file_extension": ".py",
   "mimetype": "text/x-python",
   "name": "python",
   "nbconvert_exporter": "python",
   "pygments_lexer": "ipython3",
   "version": "3.8.16"
  },
  "orig_nbformat": 4,
  "vscode": {
   "interpreter": {
    "hash": "949777d72b0d2535278d3dc13498b2535136f6dfe0678499012e853ee9abcab1"
   }
  }
 },
 "nbformat": 4,
 "nbformat_minor": 2
}
