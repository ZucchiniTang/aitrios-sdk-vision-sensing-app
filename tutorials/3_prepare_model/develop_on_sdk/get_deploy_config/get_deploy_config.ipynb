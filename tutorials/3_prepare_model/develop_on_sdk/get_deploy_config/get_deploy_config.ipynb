{
 "cells": [
  {
   "cell_type": "code",
   "execution_count": 11,
   "metadata": {},
   "outputs": [],
   "source": [
    "# Copyright 2022-2023 Sony Semiconductor Solutions Corp. All rights reserved.\n",
    "#\n",
    "# Licensed under the Apache License, Version 2.0 (the \"License\");\n",
    "# you may not use this file except in compliance with the License.\n",
    "# You may obtain a copy of the License at\n",
    "#\n",
    "#     http://www.apache.org/licenses/LICENSE-2.0\n",
    "#\n",
    "# Unless required by applicable law or agreed to in writing, software\n",
    "# distributed under the License is distributed on an \"AS IS\" BASIS,\n",
    "# WITHOUT WARRANTIES OR CONDITIONS OF ANY KIND, either express or implied.\n",
    "# See the License for the specific language governing permissions and\n",
    "# limitations under the License."
   ]
  },
  {
   "attachments": {},
   "cell_type": "markdown",
   "metadata": {},
   "source": [
    "# Get deploy configurations\n",
    "\n",
    "This notebook explains the workflow for getting deploy configurations from \"**Console for AITRIOS**\".\n",
    "\n",
    "Instructions are described in [README.md](./README.md)."
   ]
  },
  {
   "attachments": {},
   "cell_type": "markdown",
   "metadata": {},
   "source": [
    "## Imports"
   ]
  },
  {
   "cell_type": "code",
   "execution_count": 12,
   "metadata": {},
   "outputs": [],
   "source": [
    "import numpy as np\n",
    "import pandas as pd\n",
    "from console_access_library.client import Client\n",
    "from IPython.display import display"
   ]
  },
  {
   "attachments": {},
   "cell_type": "markdown",
   "metadata": {},
   "source": [
    "## Load an instance of \"**Console Access Library**\" client\n",
    "\n",
    "Run this cell to restore instance variable 'client_obj' created on a notebook of Set up \"**Console Access Library**\"."
   ]
  },
  {
   "cell_type": "code",
   "execution_count": 13,
   "metadata": {},
   "outputs": [],
   "source": [
    "%store -r\n",
    "client_obj: Client = client_obj"
   ]
  },
  {
   "attachments": {},
   "cell_type": "markdown",
   "metadata": {},
   "source": [
    "## Get deploy configurations"
   ]
  },
  {
   "cell_type": "code",
   "execution_count": null,
   "metadata": {},
   "outputs": [],
   "source": [
    "# Get an instance of deploy API\n",
    "deployment_obj = client_obj.get_deployment()\n",
    "\n",
    "# Call an API to get deploy configurations\n",
    "try:\n",
    "    response = deployment_obj.get_deploy_configurations()\n",
    "except Exception as e:\n",
    "    # EXCEPTION\n",
    "    raise e\n",
    "\n",
    "# response error check\n",
    "if \"result\" in response and response[\"result\"] != \"SUCCESS\":\n",
    "    # ERROR\n",
    "    raise ValueError(\"ERROR\", response)\n",
    "\n",
    "# Create an output table\n",
    "config_ids = []\n",
    "model_ids = []\n",
    "model_version_numbers = []\n",
    "configurations = response.get(\"deploy_configurations\", [])\n",
    "for config in configurations:\n",
    "    model = config.get(\"model\", {})\n",
    "    model_id = model.get(\"model_id\", \"\")\n",
    "    if len(model_id) > 0:\n",
    "        # Set config ID\n",
    "        config_id = config.get(\"config_id\", \"\")\n",
    "        if len(config_id) > 0:\n",
    "            config_ids.append(config_id)\n",
    "        else:\n",
    "            config_ids.append(np.NaN)\n",
    "        # Set model ID\n",
    "        model_ids.append(model_id)\n",
    "        # Set model version number\n",
    "        model_version_number = model.get(\"model_version_number\", \"\")\n",
    "        if len(model_version_number) > 0:\n",
    "            model_version_numbers.append(model_version_number)\n",
    "        else:\n",
    "            model_version_numbers.append(np.NaN)\n",
    "\n",
    "if len(config_ids) == 0:\n",
    "    raise Exception(\"There is no data in the configuration list.\")\n",
    "\n",
    "output_frame = pd.DataFrame(\n",
    "    {\n",
    "        \"config_id\": config_ids,\n",
    "        \"model_id\": model_ids,\n",
    "        \"model_version_number\": model_version_numbers\n",
    "    }\n",
    ")\n",
    "output_frame = output_frame.fillna(\"-\")\n",
    "# setting backup\n",
    "backup_max_rows = pd.options.display.max_rows\n",
    "# output limit clear\n",
    "pd.set_option(\"display.max_rows\", None)\n",
    "display(output_frame)\n",
    "# setting restore\n",
    "pd.set_option(\"display.max_rows\", backup_max_rows)"
   ]
  }
 ],
 "metadata": {
  "kernelspec": {
   "display_name": "Python 3",
   "language": "python",
   "name": "python3"
  },
  "language_info": {
   "codemirror_mode": {
    "name": "ipython",
    "version": 3
   },
   "file_extension": ".py",
   "mimetype": "text/x-python",
   "name": "python",
   "nbconvert_exporter": "python",
   "pygments_lexer": "ipython3",
   "version": "3.10.8 (tags/v3.10.8:aaaf517, Oct 11 2022, 16:50:30) [MSC v.1933 64 bit (AMD64)]"
  },
  "orig_nbformat": 4,
  "vscode": {
   "interpreter": {
    "hash": "8280940131f971f4bf470f5c5c426a38ae556499ed4c7a649b5b5a461b0612e5"
   }
  }
 },
 "nbformat": 4,
 "nbformat_minor": 2
}
