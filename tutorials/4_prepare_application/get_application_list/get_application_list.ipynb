{
 "cells": [
  {
   "cell_type": "code",
   "execution_count": null,
   "metadata": {},
   "outputs": [],
   "source": [
    "# Copyright 2022-2023 Sony Semiconductor Solutions Corp. All rights reserved.\n",
    "#\n",
    "# Licensed under the Apache License, Version 2.0 (the \"License\");\n",
    "# you may not use this file except in compliance with the License.\n",
    "# You may obtain a copy of the License at\n",
    "#\n",
    "#     http://www.apache.org/licenses/LICENSE-2.0\n",
    "#\n",
    "# Unless required by applicable law or agreed to in writing, software\n",
    "# distributed under the License is distributed on an \"AS IS\" BASIS,\n",
    "# WITHOUT WARRANTIES OR CONDITIONS OF ANY KIND, either express or implied.\n",
    "# See the License for the specific language governing permissions and\n",
    "# limitations under the License."
   ]
  },
  {
   "attachments": {},
   "cell_type": "markdown",
   "metadata": {},
   "source": [
    "# Get list of \"**Edge Applications**\" from \"**Console for AITRIOS**\"\n",
    "\n",
    "This notebook explains the workflow for retrieving the list of \"**Edge Applications**\" from \"**Console for AITRIOS**\". <br>\n",
    "<br>\n",
    "Instructions are described in [README.md](./README.md)."
   ]
  },
  {
   "cell_type": "markdown",
   "metadata": {},
   "source": [
    "## Imports"
   ]
  },
  {
   "cell_type": "code",
   "execution_count": null,
   "metadata": {},
   "outputs": [],
   "source": [
    "import pandas as pd\n",
    "from console_access_library.client import Client\n",
    "from IPython.display import display"
   ]
  },
  {
   "attachments": {},
   "cell_type": "markdown",
   "metadata": {},
   "source": [
    "## Load an instance of \"**Console Access Library**\" Client\n",
    "\n",
    "Run this cell to restore instance variable 'client_obj' created on a notebook of Set up \"**Console Access Library**\"."
   ]
  },
  {
   "cell_type": "code",
   "execution_count": null,
   "metadata": {},
   "outputs": [],
   "source": [
    "%store -r\n",
    "client_obj: Client = client_obj"
   ]
  },
  {
   "cell_type": "markdown",
   "metadata": {},
   "source": [
    "## Get the list of \"**Edge Applications**\""
   ]
  },
  {
   "cell_type": "code",
   "execution_count": null,
   "metadata": {},
   "outputs": [],
   "source": [
    "# Get an instance of Deployment API\n",
    "deployment_obj = client_obj.get_deployment()\n",
    "\n",
    "# Status of Vision and Sensing Application on Console\n",
    "status_dictionary = {\n",
    "    \"0\": \"Importing completed (Before conversion)\",\n",
    "    \"1\": \"Converting...\",\n",
    "    \"2\": \"Conversion completed\",\n",
    "    \"3\": \"Conversion failed\",\n",
    "}\n",
    "\n",
    "response_names = []\n",
    "response_versions = []\n",
    "response_statuses = []\n",
    "\n",
    "# Call an API to get Vision and Sensing Application list\n",
    "try:\n",
    "    response = deployment_obj.get_device_apps()\n",
    "except Exception as e:\n",
    "    # EXCEPTION\n",
    "    raise e\n",
    "\n",
    "if \"result\" in response and response[\"result\"] != \"SUCCESS\":\n",
    "    # ERROR\n",
    "    raise ValueError(\"ERROR\", response)\n",
    "\n",
    "# SUCCESS\n",
    "# Create output list\n",
    "apps = response.get(\"apps\", [])\n",
    "\n",
    "for app in apps:\n",
    "    versions = app.get(\"versions\", [])\n",
    "    for version in versions:\n",
    "        response_names.append(app.get(\"name\", \"\"))\n",
    "        response_versions.append(version.get(\"version\", \"\"))\n",
    "        version_status = version.get(\"status\", \"\")\n",
    "        response_statuses.append(\n",
    "            status_dictionary.get(\n",
    "                version_status, \"Unknown status '\" + version_status + \"'\"\n",
    "            )\n",
    "        )\n",
    "\n",
    "if len(response_names) == 0:\n",
    "    raise Exception(\"The list of Vision and Sensing Applications is not found.\")\n",
    "\n",
    "output_frame = pd.DataFrame(\n",
    "    {\n",
    "        \"application name\": response_names,\n",
    "        \"version number\": response_versions,\n",
    "        \"status\": response_statuses,\n",
    "    }\n",
    ")\n",
    "# setting backup\n",
    "backup_max_rows = pd.options.display.max_rows\n",
    "# output limit clear\n",
    "pd.set_option(\"display.max_rows\", None)\n",
    "# View results\n",
    "display(output_frame)\n",
    "# setting restore\n",
    "pd.set_option(\"display.max_rows\", backup_max_rows)"
   ]
  },
  {
   "cell_type": "code",
   "execution_count": null,
   "metadata": {},
   "outputs": [],
   "source": [
    "# Uncomment below to filter by app_name\n",
    "# QUERY_MODEL_ID = \"your_app_name\"\n",
    "# output_frame.query(f\"`application name`=='{QUERY_MODEL_ID}'\")"
   ]
  }
 ],
 "metadata": {
  "kernelspec": {
   "display_name": "Python 3.8.14 64-bit",
   "language": "python",
   "name": "python3"
  },
  "language_info": {
   "codemirror_mode": {
    "name": "ipython",
    "version": 3
   },
   "file_extension": ".py",
   "mimetype": "text/x-python",
   "name": "python",
   "nbconvert_exporter": "python",
   "pygments_lexer": "ipython3",
   "version": "3.8.16"
  },
  "orig_nbformat": 4,
  "vscode": {
   "interpreter": {
    "hash": "949777d72b0d2535278d3dc13498b2535136f6dfe0678499012e853ee9abcab1"
   }
  }
 },
 "nbformat": 4,
 "nbformat_minor": 2
}
