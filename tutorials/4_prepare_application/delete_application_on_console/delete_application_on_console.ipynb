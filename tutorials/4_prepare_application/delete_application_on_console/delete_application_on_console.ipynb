{
 "cells": [
  {
   "cell_type": "code",
   "execution_count": null,
   "metadata": {},
   "outputs": [],
   "source": [
    "# Copyright 2022-2023 Sony Semiconductor Solutions Corp. All rights reserved.\n",
    "#\n",
    "# Licensed under the Apache License, Version 2.0 (the \"License\");\n",
    "# you may not use this file except in compliance with the License.\n",
    "# You may obtain a copy of the License at\n",
    "#\n",
    "#     http://www.apache.org/licenses/LICENSE-2.0\n",
    "#\n",
    "# Unless required by applicable law or agreed to in writing, software\n",
    "# distributed under the License is distributed on an \"AS IS\" BASIS,\n",
    "# WITHOUT WARRANTIES OR CONDITIONS OF ANY KIND, either express or implied.\n",
    "# See the License for the specific language governing permissions and\n",
    "# limitations under the License."
   ]
  },
  {
   "cell_type": "markdown",
   "metadata": {},
   "source": [
    "# Delete \"**Edge Application**\" on \"**Console for AITRIOS**\"\n",
    "\n",
    "This notebook explains the workflow for deleting \"**Edge Application**\" from \"**Console**\". <br>\n",
    "<br>\n",
    "Instructions are described in [README.md](./README.md)."
   ]
  },
  {
   "cell_type": "markdown",
   "metadata": {},
   "source": [
    "## Imports"
   ]
  },
  {
   "cell_type": "code",
   "execution_count": null,
   "metadata": {},
   "outputs": [],
   "source": [
    "import errno\n",
    "import json\n",
    "from pathlib import Path\n",
    "\n",
    "import jsonschema\n",
    "from console_access_library.client import Client"
   ]
  },
  {
   "cell_type": "markdown",
   "metadata": {},
   "source": [
    "## Load Configurations"
   ]
  },
  {
   "cell_type": "markdown",
   "metadata": {},
   "source": [
    "Load the configuration file and set the variables."
   ]
  },
  {
   "cell_type": "code",
   "execution_count": null,
   "metadata": {},
   "outputs": [],
   "source": [
    "def validate_symlink(path: Path):\n",
    "    if path.is_symlink():\n",
    "        raise OSError(\n",
    "            errno.ELOOP,\n",
    "            \"Symbolic link is not supported. Please use real folder or file\",\n",
    "            f\"{path}\",\n",
    "        )\n",
    "\n",
    "\n",
    "configuration_path = Path(\"./configuration.json\")\n",
    "validate_symlink(configuration_path)\n",
    "\n",
    "# Load configuration file\n",
    "with open(configuration_path, \"r\") as f:\n",
    "    json_load = json.load(f)\n",
    "\n",
    "configuration_schema_path = Path(\"./configuration_schema.json\")\n",
    "validate_symlink(configuration_schema_path)\n",
    "\n",
    "# Load configuration schema file\n",
    "with open(configuration_schema_path, \"r\") as f:\n",
    "    json_schema = json.load(f)\n",
    "\n",
    "# Validate configuration\n",
    "jsonschema.validate(json_load, json_schema)"
   ]
  },
  {
   "attachments": {},
   "cell_type": "markdown",
   "metadata": {},
   "source": [
    "## Load an instance of \"**Console Access Library**\" Client\n",
    "\n",
    "Run this cell to restore instance variable 'client_obj' created on a notebook of Set up \"**Console Access Library**\"."
   ]
  },
  {
   "cell_type": "code",
   "execution_count": null,
   "metadata": {},
   "outputs": [],
   "source": [
    "%store -r\n",
    "client_obj: Client = client_obj"
   ]
  },
  {
   "cell_type": "markdown",
   "metadata": {},
   "source": [
    "## Delete \"**Edge Application**\""
   ]
  },
  {
   "cell_type": "code",
   "execution_count": null,
   "metadata": {},
   "outputs": [],
   "source": [
    "# Get an instance of Deployment API\n",
    "deployment_obj = client_obj.get_deployment()\n",
    "\n",
    "# Call an API for deleting Vision and Sensing Application\n",
    "try:\n",
    "    response = deployment_obj.delete_device_app(\n",
    "        app_name=json_load[\"app_name\"], version_number=json_load[\"version_number\"]\n",
    "    )\n",
    "except Exception as e:\n",
    "    # EXCEPTION\n",
    "    raise e\n",
    "\n",
    "if \"result\" in response and response[\"result\"] != \"SUCCESS\":\n",
    "    # ERROR\n",
    "    raise ValueError(\"ERROR\", response)\n",
    "\n",
    "# SUCCESS\n",
    "print(\n",
    "    \"Start to delete the Vision and Sensing Application.\"\n",
    "    + \" \\n\\tapp_name: \"\n",
    "    + json_load[\"app_name\"]\n",
    "    + \"\\n\\tversion_number: \"\n",
    "    + json_load[\"version_number\"]\n",
    ")"
   ]
  },
  {
   "attachments": {},
   "cell_type": "markdown",
   "metadata": {},
   "source": [
    "## Check if the \"**Edge Application**\" has been deleted"
   ]
  },
  {
   "cell_type": "code",
   "execution_count": null,
   "metadata": {},
   "outputs": [],
   "source": [
    "# Flag for deleting check\n",
    "delete_flag = True\n",
    "\n",
    "# Call an API to get Vision and Sensing Application info\n",
    "try:\n",
    "    response = deployment_obj.get_device_apps()\n",
    "except Exception as e:\n",
    "    # EXCEPTION\n",
    "    raise e\n",
    "\n",
    "if \"result\" in response and response[\"result\"] != \"SUCCESS\":\n",
    "    # ERROR\n",
    "    raise ValueError(\"ERROR\", response)\n",
    "\n",
    "# SUCCESS\n",
    "# Check deleting\n",
    "apps = response.get(\"apps\", [])\n",
    "for app in apps:\n",
    "    if \"name\" in app and app[\"name\"] == json_load[\"app_name\"]:\n",
    "        versions = app.get(\"versions\", [])\n",
    "        for version in versions:\n",
    "            if (\n",
    "                \"version\" in version\n",
    "                and version[\"version\"] == json_load[\"version_number\"]\n",
    "            ):\n",
    "                delete_flag = False\n",
    "                break\n",
    "        if not delete_flag:\n",
    "            break\n",
    "# View results\n",
    "if delete_flag:\n",
    "    print(\n",
    "        \"Deleting Vision and Sensing Application is completed.\"\n",
    "        + \" \\n\\tapp_name: \"\n",
    "        + json_load[\"app_name\"]\n",
    "        + \"\\n\\tversion_number: \"\n",
    "        + json_load[\"version_number\"]\n",
    "    )\n",
    "else:\n",
    "    raise Exception(\n",
    "        \"Deleting Vision and Sensing Application is failed.\"\n",
    "        + \" \\n\\tapp_name: \"\n",
    "        + json_load[\"app_name\"]\n",
    "        + \"\\n\\tversion_number: \"\n",
    "        + json_load[\"version_number\"]\n",
    "    )"
   ]
  }
 ],
 "metadata": {
  "kernelspec": {
   "display_name": "Python 3.8.14 64-bit",
   "language": "python",
   "name": "python3"
  },
  "language_info": {
   "codemirror_mode": {
    "name": "ipython",
    "version": 3
   },
   "file_extension": ".py",
   "mimetype": "text/x-python",
   "name": "python",
   "nbconvert_exporter": "python",
   "pygments_lexer": "ipython3",
   "version": "3.8.16"
  },
  "orig_nbformat": 4,
  "vscode": {
   "interpreter": {
    "hash": "949777d72b0d2535278d3dc13498b2535136f6dfe0678499012e853ee9abcab1"
   }
  }
 },
 "nbformat": 4,
 "nbformat_minor": 2
}
