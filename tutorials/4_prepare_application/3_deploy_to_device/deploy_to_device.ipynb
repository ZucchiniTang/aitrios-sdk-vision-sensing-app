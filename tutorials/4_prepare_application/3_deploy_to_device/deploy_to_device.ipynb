{
 "cells": [
  {
   "cell_type": "code",
   "execution_count": null,
   "metadata": {},
   "outputs": [],
   "source": [
    "# Copyright 2022-2023 Sony Semiconductor Solutions Corp. All rights reserved.\n",
    "#\n",
    "# Licensed under the Apache License, Version 2.0 (the \"License\");\n",
    "# you may not use this file except in compliance with the License.\n",
    "# You may obtain a copy of the License at\n",
    "#\n",
    "#     http://www.apache.org/licenses/LICENSE-2.0\n",
    "#\n",
    "# Unless required by applicable law or agreed to in writing, software\n",
    "# distributed under the License is distributed on an \"AS IS\" BASIS,\n",
    "# WITHOUT WARRANTIES OR CONDITIONS OF ANY KIND, either express or implied.\n",
    "# See the License for the specific language governing permissions and\n",
    "# limitations under the License.\n"
   ]
  },
  {
   "attachments": {},
   "cell_type": "markdown",
   "metadata": {},
   "source": [
    "# Deploy \"**Edge Application**\" to Device\n",
    "\n",
    "This notebook explains the workflow to deploy \"**Edge Applications**\" from Edge AI Device to \"**Console for AITRIOS**\" using \"**Console Access Library**\".\n",
    "\n",
    "Instructions are described in [README.md](./README.md)."
   ]
  },
  {
   "attachments": {},
   "cell_type": "markdown",
   "metadata": {},
   "source": [
    "## Imports"
   ]
  },
  {
   "cell_type": "code",
   "execution_count": null,
   "metadata": {},
   "outputs": [],
   "source": [
    "import errno\n",
    "import json\n",
    "from pathlib import Path\n",
    "\n",
    "import jsonschema\n",
    "import pandas as pd\n",
    "from console_access_library.client import Client\n",
    "from IPython.display import display\n"
   ]
  },
  {
   "attachments": {},
   "cell_type": "markdown",
   "metadata": {},
   "source": [
    "## Load Configurations\n",
    "\n",
    "Load the configuration file and set the variables."
   ]
  },
  {
   "cell_type": "code",
   "execution_count": null,
   "metadata": {},
   "outputs": [],
   "source": [
    "def validate_symlink(path: Path):\n",
    "    if path.is_symlink():\n",
    "        raise OSError(\n",
    "            errno.ELOOP,\n",
    "            \"Symbolic link is not supported. Please use real folder or file\",\n",
    "            f\"{path}\",\n",
    "        )\n",
    "\n",
    "\n",
    "configuration_path = Path(\"./configuration.json\")\n",
    "validate_symlink(configuration_path)\n",
    "\n",
    "# Load configuration file.\n",
    "with open(configuration_path, \"r\") as f:\n",
    "    json_load = json.load(f)\n",
    "\n",
    "configuration_schema_path = Path(\"./configuration_schema.json\")\n",
    "validate_symlink(configuration_schema_path)\n",
    "\n",
    "# Load configuration schema file.\n",
    "with open(configuration_schema_path, \"r\") as f:\n",
    "    json_schema = json.load(f)\n",
    "\n",
    "# Validate configuration.\n",
    "jsonschema.validate(json_load, json_schema)\n"
   ]
  },
  {
   "attachments": {},
   "cell_type": "markdown",
   "metadata": {},
   "source": [
    "## Load an instance of \"**Console Access Library**\" Client.\n",
    "Run this cell to restore instance variable 'client_obj' created on a notebook of Set up \"**Console Access Library**\"."
   ]
  },
  {
   "cell_type": "code",
   "execution_count": null,
   "metadata": {},
   "outputs": [],
   "source": [
    "%store -r\n",
    "client_obj: Client = client_obj"
   ]
  },
  {
   "attachments": {},
   "cell_type": "markdown",
   "metadata": {},
   "source": [
    "## Deploy \"**Edge Application**\" to edge AI device"
   ]
  },
  {
   "cell_type": "code",
   "execution_count": null,
   "metadata": {},
   "outputs": [],
   "source": [
    "# Get an instance of Deployment API.\n",
    "deployment_obj = client_obj.get_deployment()\n",
    "\n",
    "param_dict = json_load.copy()\n",
    "\n",
    "device_ids = param_dict[\"device_ids\"]\n",
    "device_ids_join = \",\".join(device_ids)\n",
    "param_dict[\"device_ids\"] = device_ids_join\n",
    "\n",
    "\n",
    "# Call an API to deploy Vision and Sensing Application from Console for AITRIOS to Edge AI Device.\n",
    "try:\n",
    "    response = deployment_obj.deploy_device_app(**param_dict)\n",
    "except Exception as e:\n",
    "    # EXCEPTION\n",
    "    raise e\n",
    "\n",
    "# Response error check\n",
    "if \"result\" in response and response[\"result\"] != \"SUCCESS\":\n",
    "    # ERROR\n",
    "    raise ValueError(\"ERROR\", response)\n",
    "\n",
    "# SUCCESS\n",
    "print(\n",
    "    \"Start to deploy application. \\n\\tapp_name: \"\n",
    "    + json_load[\"app_name\"]\n",
    "    + \"\\n\\tversion_number: \"\n",
    "    + json_load[\"version_number\"]\n",
    "    + \"\\n\\tdevice_ids: \"\n",
    "    + device_ids_join\n",
    ")\n"
   ]
  },
  {
   "attachments": {},
   "cell_type": "markdown",
   "metadata": {},
   "source": [
    "## Check deployment status\n",
    "Deploying to devices takes time. <br>\n",
    "To complete the deployment, ensure that the deployment status is **`Success`**. <br>\n",
    "After you start the deployment, run the following code cell to check the status :"
   ]
  },
  {
   "cell_type": "code",
   "execution_count": null,
   "metadata": {},
   "outputs": [],
   "source": [
    "status_dictionary = {\"0\": \"Deploying\", \"1\": \"Success\", \"2\": \"Fail\", \"3\": \"Cancel\"}\n",
    "\n",
    "response_statuses = []\n",
    "response_device_ids = []\n",
    "\n",
    "# Call an API to get Vision and Sensing Application info.\n",
    "try:\n",
    "    response = deployment_obj.get_device_app_deploys(\n",
    "        json_load[\"app_name\"], json_load[\"version_number\"]\n",
    "    )\n",
    "except Exception as e:\n",
    "    # EXCEPTION\n",
    "    raise e\n",
    "\n",
    "# response error check\n",
    "if \"result\" in response and response[\"result\"] != \"SUCCESS\":\n",
    "    # ERROR\n",
    "    raise ValueError(\"ERROR\", response)\n",
    "\n",
    "# SUCCESS\n",
    "\n",
    "deploys = response.get(\"deploys\", [])\n",
    "# Display deployment status of specified devices\n",
    "for deploy in deploys:\n",
    "    if \"devices\" in deploy:\n",
    "        devices = deploy.get(\"devices\", [])\n",
    "        for device in devices:\n",
    "            if (\n",
    "                \"device_id\" in device\n",
    "                and device[\"device_id\"] in device_ids\n",
    "                and device[\"latest_deployment_flg\"] == \"1\"\n",
    "            ):\n",
    "                response_device_ids.append(device.get(\"device_id\", \"\"))\n",
    "                deploy_status = device.get(\"status\", \"\")\n",
    "                response_statuses.append(\n",
    "                    status_dictionary.get(\n",
    "                        deploy_status, \"Unknown status '\" + deploy_status + \"'\"\n",
    "                    )\n",
    "                )\n",
    "\n",
    "if len(response_device_ids) == 0:\n",
    "    raise Exception(\n",
    "        \"Failed to get deploy status. Deploy history not found. \\n\\tapp_name: \"\n",
    "        + json_load[\"app_name\"]\n",
    "        + \"\\n\\tversion_number: \"\n",
    "        + json_load[\"version_number\"]\n",
    "        + \"\\n\\tdevice_ids: \"\n",
    "        + device_ids_join\n",
    "    )\n",
    "\n",
    "print(\n",
    "    \"Deployment status of: \\n\\tapp_name: \"\n",
    "    + json_load[\"app_name\"]\n",
    "    + \"\\n\\tversion_number: \"\n",
    "    + json_load[\"version_number\"]\n",
    ")\n",
    "\n",
    "output_frame = pd.DataFrame(\n",
    "    {\"device_id\": response_device_ids, \"status\": response_statuses}\n",
    ")\n",
    "\n",
    "# setting backup\n",
    "backup_max_rows = pd.options.display.max_rows\n",
    "# output limit clear\n",
    "pd.set_option(\"display.max_rows\", None)\n",
    "# View results\n",
    "display(output_frame)\n",
    "# setting restore\n",
    "pd.set_option(\"display.max_rows\", backup_max_rows)\n"
   ]
  }
 ],
 "metadata": {
  "kernelspec": {
   "display_name": "Python 3",
   "language": "python",
   "name": "python3"
  },
  "language_info": {
   "codemirror_mode": {
    "name": "ipython",
    "version": 3
   },
   "file_extension": ".py",
   "mimetype": "text/x-python",
   "name": "python",
   "nbconvert_exporter": "python",
   "pygments_lexer": "ipython3",
   "version": "3.8.16"
  },
  "orig_nbformat": 4,
  "vscode": {
   "interpreter": {
    "hash": "949777d72b0d2535278d3dc13498b2535136f6dfe0678499012e853ee9abcab1"
   }
  }
 },
 "nbformat": 4,
 "nbformat_minor": 2
}
