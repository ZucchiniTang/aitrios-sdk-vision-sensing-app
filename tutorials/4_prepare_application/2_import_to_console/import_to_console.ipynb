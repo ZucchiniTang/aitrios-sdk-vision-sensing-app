{
 "cells": [
  {
   "cell_type": "code",
   "execution_count": null,
   "metadata": {},
   "outputs": [],
   "source": [
    "# Copyright 2022-2023 Sony Semiconductor Solutions Corp. All rights reserved.\n",
    "#\n",
    "# Licensed under the Apache License, Version 2.0 (the \"License\");\n",
    "# you may not use this file except in compliance with the License.\n",
    "# You may obtain a copy of the License at\n",
    "#\n",
    "#     http://www.apache.org/licenses/LICENSE-2.0\n",
    "#\n",
    "# Unless required by applicable law or agreed to in writing, software\n",
    "# distributed under the License is distributed on an \"AS IS\" BASIS,\n",
    "# WITHOUT WARRANTIES OR CONDITIONS OF ANY KIND, either express or implied.\n",
    "# See the License for the specific language governing permissions and\n",
    "# limitations under the License."
   ]
  },
  {
   "attachments": {},
   "cell_type": "markdown",
   "metadata": {},
   "source": [
    "# Import \"**Edge Application**\" to \"**Console**\"\n",
    "\n",
    "This notebook explains the workflow for importing \"**Edge Application**\" to \"**Console**\". <br>\n",
    "<br>\n",
    "Instructions are described in [README.md](./README.md)."
   ]
  },
  {
   "attachments": {},
   "cell_type": "markdown",
   "metadata": {},
   "source": [
    "## Imports"
   ]
  },
  {
   "cell_type": "code",
   "execution_count": null,
   "metadata": {},
   "outputs": [],
   "source": [
    "import base64\n",
    "import errno\n",
    "import json\n",
    "import os\n",
    "from pathlib import Path\n",
    "\n",
    "import jsonschema\n",
    "from console_access_library.client import Client"
   ]
  },
  {
   "attachments": {},
   "cell_type": "markdown",
   "metadata": {},
   "source": [
    "## Load Configurations\n",
    "\n",
    "Load the configuration file and set the variables."
   ]
  },
  {
   "cell_type": "code",
   "execution_count": null,
   "metadata": {},
   "outputs": [],
   "source": [
    "def validate_symlink(path: Path):\n",
    "    if path.is_symlink():\n",
    "        raise OSError(\n",
    "            errno.ELOOP,\n",
    "            \"Symbolic link is not supported. Please use real folder or file\",\n",
    "            f\"{path}\",\n",
    "        )\n",
    "\n",
    "\n",
    "configuration_path = Path(\"./configuration.json\")\n",
    "validate_symlink(configuration_path)\n",
    "\n",
    "# Load configuration file\n",
    "with open(configuration_path, \"r\") as f:\n",
    "    json_load = json.load(f)\n",
    "\n",
    "configuration_schema_path = Path(\"./configuration_schema.json\")\n",
    "validate_symlink(configuration_schema_path)\n",
    "\n",
    "# Load configuration schema file\n",
    "with open(configuration_schema_path, \"r\") as f:\n",
    "    json_schema = json.load(f)\n",
    "\n",
    "# Validate configuration\n",
    "jsonschema.validate(json_load, json_schema)\n",
    "\n",
    "# Set compiled_flg(0:wasm, 1:aot):\n",
    "compiled_flag = \"0\"\n",
    "\n",
    "# Set app entry point:\n",
    "entry_point = \"main\""
   ]
  },
  {
   "attachments": {},
   "cell_type": "markdown",
   "metadata": {},
   "source": [
    "## Convert \"**Edge Application**\" to string for Base64"
   ]
  },
  {
   "cell_type": "code",
   "execution_count": null,
   "metadata": {},
   "outputs": [],
   "source": [
    "# file encode to base64\n",
    "def convert_file_to_b64_string(file_path):\n",
    "    with open(file_path, \"rb\") as f:\n",
    "        return base64.b64encode(f.read())\n",
    "\n",
    "\n",
    "ppl_path = Path(json_load[\"ppl_file\"].replace(os.path.sep, \"/\"))\n",
    "validate_symlink(ppl_path)\n",
    "\n",
    "file_content = convert_file_to_b64_string(ppl_path)\n",
    "\n",
    "file_name = os.path.basename(ppl_path)\n",
    "\n",
    "print(json_load[\"ppl_file\"] + \" is loaded.\")"
   ]
  },
  {
   "attachments": {},
   "cell_type": "markdown",
   "metadata": {},
   "source": [
    "## Load an instance of \"**Console Access Library**\" Client\n",
    "\n",
    "Run this cell to restore instance variable 'client_obj' created on a notebook of Set up \"**Console Access Library**\"."
   ]
  },
  {
   "cell_type": "code",
   "execution_count": null,
   "metadata": {},
   "outputs": [],
   "source": [
    "%store -r\n",
    "client_obj: Client = client_obj"
   ]
  },
  {
   "attachments": {},
   "cell_type": "markdown",
   "metadata": {},
   "source": [
    "## Import \"**Edge Application**\""
   ]
  },
  {
   "cell_type": "code",
   "execution_count": null,
   "metadata": {},
   "outputs": [],
   "source": [
    "# Get an instance of Deployment API\n",
    "deployment_obj = client_obj.get_deployment()\n",
    "\n",
    "param_dict = json_load.copy()\n",
    "\n",
    "param_dict[\"compiled_flg\"] = compiled_flag\n",
    "param_dict[\"entry_point\"] = entry_point\n",
    "param_dict[\"file_name\"] = file_name\n",
    "param_dict[\"file_content\"] = file_content\n",
    "del param_dict[\"ppl_file\"]\n",
    "\n",
    "# Call an API to import Vision and Sensing Application into Console for AITRIOS\n",
    "try:\n",
    "    response = deployment_obj.import_device_app(**param_dict)\n",
    "except Exception as e:\n",
    "    # EXCEPTION\n",
    "    raise e\n",
    "\n",
    "# response error check\n",
    "if \"result\" in response and response[\"result\"] != \"SUCCESS\":\n",
    "    # ERROR\n",
    "    raise ValueError(\"ERROR\", response)\n",
    "\n",
    "# SUCCESS\n",
    "print(\n",
    "    \"Start to import the Vision and Sensing Application.\"\n",
    "    + \" \\n\\tapp_name: \"\n",
    "    + json_load[\"app_name\"]\n",
    "    + \"\\n\\tversion_number: \"\n",
    "    + json_load[\"version_number\"]\n",
    ")"
   ]
  },
  {
   "attachments": {},
   "cell_type": "markdown",
   "metadata": {},
   "source": [
    "## Get \"**Edge Application**\" status\n",
    "\n",
    "Converting takes time.<br>\n",
    "\n",
    "To complete the conversion, ensure that the conversion status is **`Conversion completed`**.\n",
    "\n",
    "After you start the conversion, run the following code cell to check the status :"
   ]
  },
  {
   "cell_type": "code",
   "execution_count": null,
   "metadata": {},
   "outputs": [],
   "source": [
    "def get_device_app_status(app_name: str, version_number: str):\n",
    "    # Status of Vision and Sensing Application on Console\n",
    "    status_dictionary = {\n",
    "        \"0\": \"Importing completed (Before conversion)\",\n",
    "        \"1\": \"Converting...\",\n",
    "        \"2\": \"Conversion completed\",\n",
    "        \"3\": \"Conversion failed\",\n",
    "    }\n",
    "    # Flag for import check\n",
    "    import_flag = False\n",
    "    # Call an API to get Vision and Sensing Application info\n",
    "    try:\n",
    "        response = deployment_obj.get_device_apps()\n",
    "    except Exception as e:\n",
    "        # EXCEPTION\n",
    "        raise e\n",
    "\n",
    "    # response error check\n",
    "    if \"result\" in response and response[\"result\"] != \"SUCCESS\":\n",
    "        # ERROR\n",
    "        raise ValueError(\"ERROR\", response)\n",
    "\n",
    "    # SUCCESS\n",
    "    # Create output list\n",
    "    apps = response.get(\"apps\", [])\n",
    "    for app in apps:\n",
    "        if \"name\" in app and app[\"name\"] == app_name:\n",
    "            versions = app.get(\"versions\", [])\n",
    "            for version in versions:\n",
    "                if \"version\" in version and version[\"version\"] == version_number:\n",
    "                    import_flag = True\n",
    "                    version_status = version.get(\"status\", \"\")\n",
    "                    break\n",
    "            if import_flag:\n",
    "                break\n",
    "    if import_flag:\n",
    "        return status_dictionary.get(\n",
    "            version_status, \"Unknown status '\" + version_status + \"'\"\n",
    "        )\n",
    "    else:\n",
    "        raise Exception(\n",
    "            \"Vision and Sensing Application is not found. \"\n",
    "            + \" \\n\\tapp_name: \"\n",
    "            + app_name\n",
    "            + \"\\n\\tversion_number: \"\n",
    "            + version_number\n",
    "        )\n",
    "\n",
    "\n",
    "get_status = get_device_app_status(\n",
    "    app_name=json_load[\"app_name\"], version_number=json_load[\"version_number\"]\n",
    ")\n",
    "print(\n",
    "    get_status\n",
    "    + \" \\n\\tapp_name: \"\n",
    "    + json_load[\"app_name\"]\n",
    "    + \"\\n\\tversion_number: \"\n",
    "    + json_load[\"version_number\"]\n",
    ")"
   ]
  }
 ],
 "metadata": {
  "kernelspec": {
   "display_name": "Python 3.8.14 64-bit",
   "language": "python",
   "name": "python3"
  },
  "language_info": {
   "codemirror_mode": {
    "name": "ipython",
    "version": 3
   },
   "file_extension": ".py",
   "mimetype": "text/x-python",
   "name": "python",
   "nbconvert_exporter": "python",
   "pygments_lexer": "ipython3",
   "version": "3.8.16"
  },
  "orig_nbformat": 4,
  "vscode": {
   "interpreter": {
    "hash": "949777d72b0d2535278d3dc13498b2535136f6dfe0678499012e853ee9abcab1"
   }
  }
 },
 "nbformat": 4,
 "nbformat_minor": 2
}
