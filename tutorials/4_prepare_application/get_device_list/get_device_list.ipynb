{
 "cells": [
  {
   "cell_type": "code",
   "execution_count": null,
   "metadata": {},
   "outputs": [],
   "source": [
    "# Copyright 2022 Sony Semiconductor Solutions Corp. All rights reserved.\n",
    "#\n",
    "# Licensed under the Apache License, Version 2.0 (the \"License\");\n",
    "# you may not use this file except in compliance with the License.\n",
    "# You may obtain a copy of the License at\n",
    "#\n",
    "#     http://www.apache.org/licenses/LICENSE-2.0\n",
    "#\n",
    "# Unless required by applicable law or agreed to in writing, software\n",
    "# distributed under the License is distributed on an \"AS IS\" BASIS,\n",
    "# WITHOUT WARRANTIES OR CONDITIONS OF ANY KIND, either express or implied.\n",
    "# See the License for the specific language governing permissions and\n",
    "# limitations under the License.\n"
   ]
  },
  {
   "attachments": {},
   "cell_type": "markdown",
   "metadata": {},
   "source": [
    "# Get Edge AI Device List"
   ]
  },
  {
   "cell_type": "code",
   "execution_count": null,
   "metadata": {},
   "outputs": [],
   "source": [
    "import pandas as pd\n",
    "from console_access_library.client import Client\n",
    "from IPython.display import display\n"
   ]
  },
  {
   "attachments": {},
   "cell_type": "markdown",
   "metadata": {},
   "source": [
    "## Load an instance of Console Access Library Client\n",
    "Run this cell to restore instance variable 'client_obj' created on a notebook of Set up Console Access Library."
   ]
  },
  {
   "cell_type": "code",
   "execution_count": null,
   "metadata": {},
   "outputs": [],
   "source": [
    "%store -r\n",
    "client_obj: Client = client_obj"
   ]
  },
  {
   "attachments": {},
   "cell_type": "markdown",
   "metadata": {},
   "source": [
    "## Get device list"
   ]
  },
  {
   "cell_type": "code",
   "execution_count": null,
   "metadata": {},
   "outputs": [],
   "source": [
    "# Get an instance of device management API\n",
    "device_management_obj = client_obj.get_device_management()\n",
    "\n",
    "# Call an API for get device list\n",
    "try:\n",
    "    response = device_management_obj.get_devices()\n",
    "except Exception as e:\n",
    "    raise e\n",
    "\n",
    "# response error check\n",
    "if \"result\" in response and response[\"result\"] != \"SUCCESS\":\n",
    "    # ERROR\n",
    "    raise ValueError(\"ERROR\", response)\n",
    "\n",
    "# SUCCESS\n",
    "# Create output list.\n",
    "device_ids = []\n",
    "device_names = []\n",
    "\n",
    "devices = response.get(\"devices\", [])\n",
    "\n",
    "if len(devices) == 0:\n",
    "    raise Exception(\"device is not found.\")\n",
    "\n",
    "for device in devices:\n",
    "    device_ids.append(device.get(\"device_id\", \"\"))\n",
    "    property = device.get(\"property\", \"\")\n",
    "    if \"device_name\" in property:\n",
    "        device_names.append(property.get(\"device_name\", \"\"))\n",
    "    else:\n",
    "        device_names.append(\"\")\n",
    "\n",
    "output_frame = pd.DataFrame({\"device_id\": device_ids, \"device_name\": device_names})\n",
    "\n",
    "# setting backup\n",
    "backup_max_rows = pd.options.display.max_rows\n",
    "# output limit clear\n",
    "pd.set_option(\"display.max_rows\", None)\n",
    "# View results\n",
    "display(output_frame)\n",
    "# setting restore\n",
    "pd.set_option(\"display.max_rows\", backup_max_rows)\n"
   ]
  }
 ],
 "metadata": {
  "kernelspec": {
   "display_name": "Python 3",
   "language": "python",
   "name": "python3"
  },
  "language_info": {
   "codemirror_mode": {
    "name": "ipython",
    "version": 3
   },
   "file_extension": ".py",
   "mimetype": "text/x-python",
   "name": "python",
   "nbconvert_exporter": "python",
   "pygments_lexer": "ipython3",
   "version": "3.8.16 (default, Jan 11 2023, 16:24:16) \n[GCC 10.2.1 20210110]"
  },
  "orig_nbformat": 4,
  "vscode": {
   "interpreter": {
    "hash": "949777d72b0d2535278d3dc13498b2535136f6dfe0678499012e853ee9abcab1"
   }
  }
 },
 "nbformat": 4,
 "nbformat_minor": 2
}
