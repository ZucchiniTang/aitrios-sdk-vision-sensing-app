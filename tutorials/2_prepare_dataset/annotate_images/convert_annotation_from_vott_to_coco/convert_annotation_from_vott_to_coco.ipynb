{
 "cells": [
  {
   "cell_type": "code",
   "execution_count": 1,
   "metadata": {},
   "outputs": [],
   "source": [
    "# Copyright 2022 Sony Semiconductor Solutions Corp. All rights reserved.\n",
    "#\n",
    "# Licensed under the Apache License, Version 2.0 (the \"License\");\n",
    "# you may not use this file except in compliance with the License.\n",
    "# You may obtain a copy of the License at\n",
    "#\n",
    "#     http://www.apache.org/licenses/LICENSE-2.0\n",
    "#\n",
    "# Unless required by applicable law or agreed to in writing, software\n",
    "# distributed under the License is distributed on an \"AS IS\" BASIS,\n",
    "# WITHOUT WARRANTIES OR CONDITIONS OF ANY KIND, either express or implied.\n",
    "# See the License for the specific language governing permissions and\n",
    "# limitations under the License."
   ]
  },
  {
   "cell_type": "markdown",
   "metadata": {},
   "source": [
    "# Convert Annotation from VoTT Format to COCO Format"
   ]
  },
  {
   "cell_type": "markdown",
   "metadata": {},
   "source": [
    "With this notebook, you can convert an annotation file tagged and exported with VoTT into COCO format."
   ]
  },
  {
   "cell_type": "markdown",
   "metadata": {},
   "source": [
    "## Imports"
   ]
  },
  {
   "cell_type": "code",
   "execution_count": 1,
   "metadata": {},
   "outputs": [],
   "source": [
    "import datetime\n",
    "import glob\n",
    "import json\n",
    "import os\n",
    "import pathlib\n",
    "from collections import OrderedDict, defaultdict\n",
    "\n",
    "import ipywidgets as widgets\n",
    "import pycocotools._mask as _mask\n",
    "from IPython.display import display"
   ]
  },
  {
   "cell_type": "markdown",
   "metadata": {},
   "source": [
    "## Set input VoTT annotation file"
   ]
  },
  {
   "cell_type": "markdown",
   "metadata": {},
   "source": [
    "Run the following code cell and select a VoTT json file you want to convert from the drop-down list.<br>\n",
    "\n",
    "The annotation file exported by VoTT has the following filename and only the files with this name appear in the drop-down list.<br>\n",
    "`[VoTT-project-name]-export.json`"
   ]
  },
  {
   "cell_type": "code",
   "execution_count": null,
   "metadata": {},
   "outputs": [],
   "source": [
    "files = glob.glob(\"/workspaces/**/*-export.json\", recursive=True)\n",
    "if not files:\n",
    "    raise FileNotFoundError(\n",
    "        \"A VoTT Json file is not found. \"\n",
    "        \"Please store the file in the devcontainer file system.\"\n",
    "    )\n",
    "\n",
    "select_input_file = widgets.Dropdown(options=files)\n",
    "display(select_input_file)"
   ]
  },
  {
   "cell_type": "markdown",
   "metadata": {},
   "source": [
    "## Set output file for COCO annotation file"
   ]
  },
  {
   "cell_type": "markdown",
   "metadata": {},
   "source": [
    "Here, set the path of the file to output annotations to be converted to COCO format.<br>\n",
    "The setting requires a path to the output json file. If you want to output to the same file as when you converted using this notebook last time, you can get the path by running the following code cell. Enter the obtained path in the text box displayed by executing the second code cell. No path information remains after restarting the container."
   ]
  },
  {
   "cell_type": "code",
   "execution_count": null,
   "metadata": {},
   "outputs": [],
   "source": [
    "# Display the path of the last converted file\n",
    "%store -r\n",
    "if \"file_path\" in locals():\n",
    "    print(\"the last converted file path : \", file_path)\n",
    "else:\n",
    "    print(\"No path information remains for the last converted file.\")"
   ]
  },
  {
   "cell_type": "markdown",
   "metadata": {},
   "source": [
    "Run the following second code cell to set the output file.<br>\n",
    "After executing the code cell, enter the output json file path and filename in the text box and click \"OK\".<br>\n",
    "If the entered file does not exist, it will be newly created.<br>\n",
    "Example : **`/workspaces/test_dataset/test_annotation.json`**<br>\n",
    "<br>\n",
    "\n",
    "> **NOTE** \n",
    "> \n",
    "> If the newly created file does not appear in the Explorer, follow the following steps to update your Explorer.\n",
    "> 1. Hold the pointer over the workspace root in the Explorer and four icons appear to the right of Explorer.\n",
    "> 2. Click the third icon, a circular arrow."
   ]
  },
  {
   "cell_type": "code",
   "execution_count": null,
   "metadata": {},
   "outputs": [],
   "source": [
    "try:\n",
    "    default_path = os.path.dirname(select_input_file.value)\n",
    "    date_now = datetime.datetime.now()\n",
    "    text_output_file = widgets.Text(\n",
    "        default_path + \"/\" + date_now.strftime(\"%Y%m%d%H%M%S\") + \".json\"\n",
    "    )\n",
    "    button_output_file = widgets.Button(description=\"OK\")\n",
    "    output_output_file = widgets.Output(layout={\"border\": \"1px solid black\"})\n",
    "\n",
    "    @output_output_file.capture()\n",
    "    def on_click_callback_input(clicked_button: widgets.Button) -> None:\n",
    "        if text_output_file.value != \"\" and text_output_file.value.endswith(\".json\"):\n",
    "            if not os.path.isfile(text_output_file.value):\n",
    "                dirname = os.path.dirname(text_output_file.value)\n",
    "                if not os.path.exists(dirname):\n",
    "                    os.mkdir(dirname)\n",
    "\n",
    "                p_new = pathlib.Path(text_output_file.value)\n",
    "                with p_new.open(mode=\"w\") as f:\n",
    "                    f.write(\"\")\n",
    "\n",
    "                print(text_output_file.value, \"is created.\")\n",
    "            else:\n",
    "                print(text_output_file.value, \"is found.\")\n",
    "        else:\n",
    "            raise ValueError(\n",
    "                text_output_file.value\n",
    "                + \" is not a json file path. Please enter a json file path.\"\n",
    "            )\n",
    "\n",
    "    button_output_file.on_click(on_click_callback_input)\n",
    "\n",
    "    print(\"Enter output coco annotation json file path:\")\n",
    "    display(text_output_file, button_output_file, output_output_file)\n",
    "except (TypeError, NameError):\n",
    "    raise ValueError(\"The input VoTT annotation file is not set. Please set the file.\")"
   ]
  },
  {
   "cell_type": "markdown",
   "metadata": {},
   "source": [
    "## Convert"
   ]
  },
  {
   "cell_type": "markdown",
   "metadata": {},
   "source": [
    "Run the following code cells to convert the VoTT format annotation file to COCO format."
   ]
  },
  {
   "cell_type": "code",
   "execution_count": null,
   "metadata": {},
   "outputs": [],
   "source": [
    "def create_coco_format(info, images, annotations, categories):\n",
    "    coco_format = {\n",
    "        \"info\": info,\n",
    "        \"images\": images,\n",
    "        \"annotations\": annotations,\n",
    "        \"categories\": categories,\n",
    "        \"licenses\": [],\n",
    "    }\n",
    "    return coco_format\n",
    "\n",
    "\n",
    "def create_info():\n",
    "    date = datetime.date.today()\n",
    "    info = {\n",
    "        \"year\": date.year,\n",
    "        \"version\": \"1.0\",\n",
    "        \"description\": \"COCO format dataset\",\n",
    "        \"contributor\": \"\",\n",
    "        \"url\": \"\",\n",
    "        \"date_created\": date.strftime(\"%Y/%m/%d\"),\n",
    "    }\n",
    "    return info\n",
    "\n",
    "\n",
    "def create_image(id, width, height, file_name):\n",
    "    image = {\n",
    "        \"id\": id,\n",
    "        \"width\": width,\n",
    "        \"height\": height,\n",
    "        \"file_name\": file_name,\n",
    "        \"license\": None,\n",
    "        \"flickr_url\": None,\n",
    "        \"coco_url\": None,\n",
    "        \"date_captured\": None,\n",
    "    }\n",
    "    return image\n",
    "\n",
    "\n",
    "def create_annotation(id, image_id, category_id, segmentation, area, bbox):\n",
    "    annotation = {\n",
    "        \"id\": id,\n",
    "        \"image_id\": image_id,\n",
    "        \"category_id\": category_id,\n",
    "        \"segmentation\": segmentation,\n",
    "        \"area\": area,\n",
    "        \"bbox\": bbox,\n",
    "        \"iscrowd\": 0,\n",
    "    }\n",
    "    return annotation\n",
    "\n",
    "\n",
    "def create_category(id, name):\n",
    "    category = {\n",
    "        \"id\": id,\n",
    "        \"name\": name,\n",
    "        \"supercategory\": \"\",\n",
    "    }\n",
    "    return category"
   ]
  },
  {
   "cell_type": "code",
   "execution_count": null,
   "metadata": {},
   "outputs": [],
   "source": [
    "# Load VoTT json file:\n",
    "try:\n",
    "    vott_json_file = select_input_file.value\n",
    "    with open(vott_json_file, \"r\") as f:\n",
    "        vott_json = json.load(f)\n",
    "\n",
    "    # Create info\n",
    "    info = create_info()\n",
    "\n",
    "    # Create categories\n",
    "    tags = vott_json[\"tags\"]\n",
    "    coco_categories = []\n",
    "    for i, tag in enumerate(tags):\n",
    "        coco_category = create_category(id=i, name=tag[\"name\"])\n",
    "        coco_categories.append(coco_category)\n",
    "\n",
    "    assets = OrderedDict(vott_json[\"assets\"])\n",
    "    image_ids = defaultdict(int)\n",
    "    images = []\n",
    "    annotations = []\n",
    "    ann_id = 0\n",
    "    for image_id, image_info in enumerate(assets):\n",
    "        asset = assets[image_info][\"asset\"]\n",
    "\n",
    "        # Create images\n",
    "        image = create_image(\n",
    "            id=image_id,\n",
    "            width=asset[\"size\"][\"width\"],\n",
    "            height=asset[\"size\"][\"height\"],\n",
    "            file_name=asset[\"name\"],\n",
    "        )\n",
    "        images.append(image)\n",
    "\n",
    "        regions = assets[image_info][\"regions\"]\n",
    "        for region in regions:\n",
    "            # Create bbox\n",
    "            bbox = []\n",
    "            bbox.append(region[\"boundingBox\"][\"left\"])\n",
    "            bbox.append(region[\"boundingBox\"][\"top\"])\n",
    "            bbox.append(region[\"boundingBox\"][\"width\"])\n",
    "            bbox.append(region[\"boundingBox\"][\"height\"])\n",
    "\n",
    "            # Create segmentation\n",
    "            segmentation = []\n",
    "            for points in region[\"points\"]:\n",
    "                segmentation.append(points[\"x\"])\n",
    "                segmentation.append(points[\"y\"])\n",
    "\n",
    "            # Create area\n",
    "            segmentations = []\n",
    "            segmentations.append(segmentation)\n",
    "            h = asset[\"size\"][\"height\"]\n",
    "            w = asset[\"size\"][\"width\"]\n",
    "            R = _mask.frPoly(segmentations, h, w)\n",
    "            np_area = _mask.area(R)\n",
    "            np_areas = sum(np_area)\n",
    "            areas = np_areas.item()\n",
    "\n",
    "            def get_category_id(categories_list, category_name):\n",
    "                for category in categories_list:\n",
    "                    if category[\"name\"] == category_name:\n",
    "                        return category[\"id\"]\n",
    "                raise KeyError(\"Category ID not found\")\n",
    "\n",
    "            # Create annotations\n",
    "            region_tags = region[\"tags\"]\n",
    "            for region_tag in region_tags:\n",
    "                annotation = create_annotation(\n",
    "                    id=ann_id,\n",
    "                    image_id=image_id,\n",
    "                    category_id=get_category_id(coco_categories, region_tag),\n",
    "                    segmentation=segmentations,\n",
    "                    area=areas,\n",
    "                    bbox=bbox,\n",
    "                )\n",
    "                annotations.append(annotation)\n",
    "                ann_id += 1\n",
    "\n",
    "    # Create coco format\n",
    "    coco_format = create_coco_format(info, images, annotations, coco_categories)\n",
    "except (TypeError, NameError, KeyError):\n",
    "    if os.path.isfile(text_output_file.value):\n",
    "        os.remove(text_output_file.value)\n",
    "    raise ValueError(\"The input VoTT annotation file is not set. Please set the file.\")"
   ]
  },
  {
   "cell_type": "code",
   "execution_count": null,
   "metadata": {},
   "outputs": [],
   "source": [
    "# Output the coco format json file\n",
    "try:\n",
    "    if text_output_file.value != \"\" and text_output_file.value.endswith(\".json\"):\n",
    "        with open(text_output_file.value, \"w\") as f:\n",
    "            json.dump(coco_format, f, ensure_ascii=False, indent=4)\n",
    "            print(\"Format conversion is complete.\")\n",
    "\n",
    "        # Save output path\n",
    "        file_path = text_output_file.value\n",
    "        %store file_path\n",
    "    else:\n",
    "        raise ValueError(\n",
    "            text_output_file.value\n",
    "            + \" is not a json file path. Set a json file path as the output file.\"\n",
    "        )\n",
    "except (NameError, FileNotFoundError):\n",
    "    raise ValueError(\"The output path is not set. Please set the path.\")"
   ]
  }
 ],
 "metadata": {
  "kernelspec": {
   "display_name": "Python 3.8.13 64-bit",
   "language": "python",
   "name": "python3"
  },
  "language_info": {
   "codemirror_mode": {
    "name": "ipython",
    "version": 3
   },
   "file_extension": ".py",
   "mimetype": "text/x-python",
   "name": "python",
   "nbconvert_exporter": "python",
   "pygments_lexer": "ipython3",
   "version": "3.8.14"
  },
  "orig_nbformat": 4,
  "vscode": {
   "interpreter": {
    "hash": "949777d72b0d2535278d3dc13498b2535136f6dfe0678499012e853ee9abcab1"
   }
  }
 },
 "nbformat": 4,
 "nbformat_minor": 2
}
