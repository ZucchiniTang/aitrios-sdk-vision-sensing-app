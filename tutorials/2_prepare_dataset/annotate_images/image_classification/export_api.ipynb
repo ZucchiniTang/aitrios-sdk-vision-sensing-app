{
 "cells": [
  {
   "cell_type": "code",
   "execution_count": null,
   "metadata": {},
   "outputs": [],
   "source": [
    "# Copyright 2022 Sony Semiconductor Solutions Corp. All rights reserved.\n",
    "#\n",
    "# Licensed under the Apache License, Version 2.0 (the \"License\");\n",
    "# you may not use this file except in compliance with the License.\n",
    "# You may obtain a copy of the License at\n",
    "#\n",
    "#     http://www.apache.org/licenses/LICENSE-2.0\n",
    "#\n",
    "# Unless required by applicable law or agreed to in writing, software\n",
    "# distributed under the License is distributed on an \"AS IS\" BASIS,\n",
    "# WITHOUT WARRANTIES OR CONDITIONS OF ANY KIND, either express or implied.\n",
    "# See the License for the specific language governing permissions and\n",
    "# limitations under the License."
   ]
  },
  {
   "attachments": {},
   "cell_type": "markdown",
   "metadata": {},
   "source": [
    "## Imports"
   ]
  },
  {
   "cell_type": "code",
   "execution_count": null,
   "metadata": {},
   "outputs": [],
   "source": [
    "import errno\n",
    "import json\n",
    "import jsonschema\n",
    "import os\n",
    "import shutil\n",
    "import time\n",
    "from pathlib import Path\n",
    "from cvat_sdk.api_client import ApiClient, Configuration"
   ]
  },
  {
   "attachments": {},
   "cell_type": "markdown",
   "metadata": {},
   "source": [
    "## Load Configurations\n",
    "\n",
    "Load the configuration file and set the variables."
   ]
  },
  {
   "cell_type": "code",
   "execution_count": null,
   "metadata": {},
   "outputs": [],
   "source": [
    "def validate_symlink(path: Path):\n",
    "    if path.is_symlink():\n",
    "        msg = \"Symbolic link is not supported. Please use real folder or file\"\n",
    "        raise OSError(errno.ELOOP, f\"{msg}\", f\"{path}\")\n",
    "\n",
    "\n",
    "configuration_path = Path(\"./configuration.json\")\n",
    "validate_symlink(configuration_path)\n",
    "\n",
    "with open(configuration_path, \"r\") as f:\n",
    "    app_configuration = json.load(f)\n",
    "\n",
    "configuration_schema_path = Path(\"./configuration_schema_export.json\")\n",
    "validate_symlink(configuration_schema_path)\n",
    "\n",
    "with open(configuration_schema_path, \"r\") as f:\n",
    "    json_schema = json.load(f)\n",
    "\n",
    "# Validate configuration.\n",
    "jsonschema.validate(app_configuration, json_schema)\n",
    "\n",
    "cvat_username = app_configuration[\"cvat_username\"]\n",
    "cvat_password = app_configuration.get(\"cvat_password\", \"\")\n",
    "cvat_project_id = app_configuration.get(\"cvat_project_id\", \"\")\n",
    "\n",
    "export_format = app_configuration[\"export_format\"]\n",
    "export_dir = app_configuration[\"export_dir\"].replace(os.path.sep, \"/\")\n",
    "validate_symlink(Path(export_dir))"
   ]
  },
  {
   "attachments": {},
   "cell_type": "markdown",
   "metadata": {},
   "source": [
    "## Set Authentication"
   ]
  },
  {
   "cell_type": "code",
   "execution_count": null,
   "metadata": {},
   "outputs": [],
   "source": [
    "# Set up an API client\n",
    "configuration = Configuration(\n",
    "    host=\"http://localhost:8080/\",\n",
    "    username=cvat_username,\n",
    "    password=cvat_password,\n",
    ")"
   ]
  },
  {
   "attachments": {},
   "cell_type": "markdown",
   "metadata": {},
   "source": [
    "## Download Dataset\n",
    "Export dataset from the CVAT project."
   ]
  },
  {
   "cell_type": "code",
   "execution_count": null,
   "metadata": {},
   "outputs": [],
   "source": [
    "with ApiClient(configuration) as api_client:\n",
    "    # str | Used to start downloading process after annotation file had been created (optional)\n",
    "    action = \"download\"\n",
    "    format = export_format\n",
    "\n",
    "    status = 0\n",
    "    temp_filepath = \"\"\n",
    "    (projectslist, response) = api_client.projects_api.list()\n",
    "    id = cvat_project_id\n",
    "    filename = \"project_id_\" + str(cvat_project_id) + \".zip\"\n",
    "    wt_list = [\".\", \"..\", \"...\", \"....\"]\n",
    "    wt_len = len(wt_list)\n",
    "    wt_count = 0\n",
    "\n",
    "    while status != 200 and status != 201:\n",
    "        (data, response) = api_client.projects_api.retrieve_dataset(\n",
    "            id,\n",
    "            action=action,\n",
    "            filename=filename,\n",
    "            format=format,\n",
    "        )\n",
    "        status = response.status\n",
    "        if status != 200 and status != 201:\n",
    "            print(\"\\rDataset is downloading now.\" + wt_list[wt_count], end=\"\")\n",
    "        else:\n",
    "            print(\"\\nDataset is downloaded.\")\n",
    "        time.sleep(1)\n",
    "        temp_filepath = data.name\n",
    "        wt_count += 1\n",
    "        if wt_count == wt_len:\n",
    "            wt_count = 0\n",
    "\n",
    "    if not os.path.exists(export_dir):\n",
    "        os.makedirs(export_dir)\n",
    "    if not os.path.exists(export_dir + filename):\n",
    "        shutil.move(temp_filepath, export_dir)\n",
    "        print(\"Dataset moved. Download process is completed.\")\n",
    "    else:\n",
    "        raise FileExistsError(\n",
    "            f\"Failed to move dataset. A dataset file with the same name exists in the export_dir: {export_dir}\"\n",
    "        )"
   ]
  }
 ],
 "metadata": {
  "kernelspec": {
   "display_name": "Python 3.8.15 64-bit",
   "language": "python",
   "name": "python3"
  },
  "language_info": {
   "codemirror_mode": {
    "name": "ipython",
    "version": 3
   },
   "file_extension": ".py",
   "mimetype": "text/x-python",
   "name": "python",
   "nbconvert_exporter": "python",
   "pygments_lexer": "ipython3",
   "version": "3.8.16"
  },
  "orig_nbformat": 4,
  "vscode": {
   "interpreter": {
    "hash": "949777d72b0d2535278d3dc13498b2535136f6dfe0678499012e853ee9abcab1"
   }
  }
 },
 "nbformat": 4,
 "nbformat_minor": 2
}
