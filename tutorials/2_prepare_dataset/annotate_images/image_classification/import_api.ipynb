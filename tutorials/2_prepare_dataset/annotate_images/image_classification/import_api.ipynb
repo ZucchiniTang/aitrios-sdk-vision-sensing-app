{
 "cells": [
  {
   "cell_type": "code",
   "execution_count": null,
   "metadata": {},
   "outputs": [],
   "source": [
    "# Copyright 2022 Sony Semiconductor Solutions Corp. All rights reserved.\n",
    "#\n",
    "# Licensed under the Apache License, Version 2.0 (the \"License\");\n",
    "# you may not use this file except in compliance with the License.\n",
    "# You may obtain a copy of the License at\n",
    "#\n",
    "#     http://www.apache.org/licenses/LICENSE-2.0\n",
    "#\n",
    "# Unless required by applicable law or agreed to in writing, software\n",
    "# distributed under the License is distributed on an \"AS IS\" BASIS,\n",
    "# WITHOUT WARRANTIES OR CONDITIONS OF ANY KIND, either express or implied.\n",
    "# See the License for the specific language governing permissions and\n",
    "# limitations under the License."
   ]
  },
  {
   "attachments": {},
   "cell_type": "markdown",
   "metadata": {},
   "source": [
    "# Import dataset into CVAT"
   ]
  },
  {
   "attachments": {},
   "cell_type": "markdown",
   "metadata": {},
   "source": [
    "## Imports"
   ]
  },
  {
   "cell_type": "code",
   "execution_count": null,
   "metadata": {},
   "outputs": [],
   "source": [
    "import errno\n",
    "import glob\n",
    "import json\n",
    "import jsonschema\n",
    "import pathlib\n",
    "import re\n",
    "import os\n",
    "from pprint import pprint\n",
    "\n",
    "from cvat_sdk import make_client\n",
    "from cvat_sdk.api_client import ApiClient, Configuration, models\n",
    "from cvat_sdk.core.proxies.tasks import ResourceType"
   ]
  },
  {
   "attachments": {},
   "cell_type": "markdown",
   "metadata": {},
   "source": [
    "## Load Configurations\n",
    "\n",
    "Load the configuration file and set the variables."
   ]
  },
  {
   "cell_type": "code",
   "execution_count": null,
   "metadata": {},
   "outputs": [],
   "source": [
    "def validate_symlink(path: pathlib.Path):\n",
    "    if path.is_symlink():\n",
    "        msg = \"Symbolic link is not supported. Please use real folder or file\"\n",
    "        raise OSError(errno.ELOOP, f\"{msg}\", f\"{path}\")\n",
    "\n",
    "\n",
    "configuration_path = pathlib.Path(\"./configuration.json\")\n",
    "validate_symlink(configuration_path)\n",
    "\n",
    "with open(configuration_path, \"r\") as f:\n",
    "    app_configuration = json.load(f)\n",
    "\n",
    "configuration_schema_path = pathlib.Path(\"./configuration_schema_import.json\")\n",
    "validate_symlink(configuration_schema_path)\n",
    "\n",
    "with open(configuration_schema_path, \"r\") as f:\n",
    "    json_schema = json.load(f)\n",
    "\n",
    "# Validate configuration.\n",
    "jsonschema.validate(app_configuration, json_schema)\n",
    "\n",
    "cvat_username = app_configuration[\"cvat_username\"]\n",
    "cvat_password = app_configuration.get(\"cvat_password\", \"\")\n",
    "cvat_project_id = app_configuration.get(\"cvat_project_id\", \"\")\n",
    "\n",
    "import_dir = app_configuration[\"import_dir\"].replace(os.path.sep, \"/\")\n",
    "validate_symlink(pathlib.Path(import_dir))\n",
    "import_image_extension = app_configuration[\"import_image_extension\"]\n",
    "import_task_name = app_configuration[\"import_task_name\"]"
   ]
  },
  {
   "attachments": {},
   "cell_type": "markdown",
   "metadata": {},
   "source": [
    "## Set Authentication"
   ]
  },
  {
   "cell_type": "code",
   "execution_count": null,
   "metadata": {},
   "outputs": [],
   "source": [
    "# Set up an API client\n",
    "configuration = Configuration(\n",
    "    host=\"http://localhost:8080/\",\n",
    "    username=cvat_username,\n",
    "    password=cvat_password,\n",
    ")"
   ]
  },
  {
   "attachments": {},
   "cell_type": "markdown",
   "metadata": {},
   "source": [
    "## Load Dataset Files"
   ]
  },
  {
   "cell_type": "code",
   "execution_count": null,
   "metadata": {},
   "outputs": [],
   "source": [
    "def atoi(text):\n",
    "    return int(text) if text.isdigit() else text\n",
    "\n",
    "\n",
    "def natural_keys(text):\n",
    "    return [atoi(c) for c in re.split(r\"(\\d+)\", text)]\n",
    "\n",
    "\n",
    "# Reads Image files from a dir and gets a sorted list\n",
    "files_img = sorted(\n",
    "    glob.glob(\n",
    "        str(pathlib.Path(import_dir) / (\"**/*.\" + import_image_extension)),\n",
    "        recursive=True,\n",
    "    ),\n",
    "    key=natural_keys,\n",
    ")\n",
    "\n",
    "if len(files_img) == 0:\n",
    "    raise FileNotFoundError(\n",
    "        f\"Image files for dataset not found in the import_dir: {import_dir}\"\n",
    "    )"
   ]
  },
  {
   "attachments": {},
   "cell_type": "markdown",
   "metadata": {},
   "source": [
    "## Upload Dataset and Link to Project\n",
    "Import dataset to CVAT by creating CVAT task with dataset. And link the created CVAT task to CVAT project."
   ]
  },
  {
   "cell_type": "code",
   "execution_count": null,
   "metadata": {},
   "outputs": [],
   "source": [
    "task_id = 1\n",
    "# Create a Client instance bound to a local server and authenticate using basic auth\n",
    "with make_client(\n",
    "    host=\"http://localhost\", port=\"8080\", credentials=(cvat_username, cvat_password)\n",
    ") as client:\n",
    "    # To create a task, fill in task parameters first.\n",
    "    task_spec = {\"project_id\": cvat_project_id, \"name\": import_task_name}\n",
    "    # Now we can create a task using a task repository method.\n",
    "    # Repositories can be accessed as the Client class members.\n",
    "    task = client.tasks.create_from_data(\n",
    "        spec=task_spec, resource_type=ResourceType.LOCAL, resources=files_img\n",
    "    )\n",
    "    # If an object is modified on the server,\n",
    "    # the local object is not updated automatically.\n",
    "    # To reflect the latest changes, the local object needs to be fetch()-ed.\n",
    "    task.fetch()\n",
    "    task_id = task.id\n",
    "\n",
    "print(\"Import process is completed.\")\n",
    "\n",
    "print(\"Project and Task linking.\")\n",
    "with ApiClient(configuration) as api_client:\n",
    "    # int | A unique integer value identifying this task.\n",
    "    id = task_id\n",
    "    patched_task_write_request = models.PatchedTaskWriteRequest(\n",
    "        project_id=cvat_project_id,\n",
    "    )\n",
    "    # PatchedTaskWriteRequest |  (optional)\n",
    "    (data, response) = api_client.tasks_api.partial_update(\n",
    "        id,\n",
    "        patched_task_write_request=patched_task_write_request,\n",
    "    )\n",
    "    pprint(\"project id: \" + str(cvat_project_id) + \" linked task id: \" + str(task_id))\n",
    "\n",
    "print(\"Project and Task linking completed.\")"
   ]
  }
 ],
 "metadata": {
  "kernelspec": {
   "display_name": "Python 3 (ipykernel)",
   "language": "python",
   "name": "python3"
  },
  "language_info": {
   "codemirror_mode": {
    "name": "ipython",
    "version": 3
   },
   "file_extension": ".py",
   "mimetype": "text/x-python",
   "name": "python",
   "nbconvert_exporter": "python",
   "pygments_lexer": "ipython3",
   "version": "3.8.17"
  },
  "orig_nbformat": 4,
  "vscode": {
   "interpreter": {
    "hash": "949777d72b0d2535278d3dc13498b2535136f6dfe0678499012e853ee9abcab1"
   }
  }
 },
 "nbformat": 4,
 "nbformat_minor": 2
}
