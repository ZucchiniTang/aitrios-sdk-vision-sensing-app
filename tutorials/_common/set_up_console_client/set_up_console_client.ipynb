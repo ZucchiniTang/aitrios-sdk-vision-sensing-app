{
 "cells": [
  {
   "cell_type": "code",
   "execution_count": 1,
   "metadata": {},
   "outputs": [],
   "source": [
    "# Copyright 2022 Sony Semiconductor Solutions Corp. All rights reserved.\n",
    "#\n",
    "# Licensed under the Apache License, Version 2.0 (the \"License\");\n",
    "# you may not use this file except in compliance with the License.\n",
    "# You may obtain a copy of the License at\n",
    "#\n",
    "#     http://www.apache.org/licenses/LICENSE-2.0\n",
    "#\n",
    "# Unless required by applicable law or agreed to in writing, software\n",
    "# distributed under the License is distributed on an \"AS IS\" BASIS,\n",
    "# WITHOUT WARRANTIES OR CONDITIONS OF ANY KIND, either express or implied.\n",
    "# See the License for the specific language governing permissions and\n",
    "# limitations under the License."
   ]
  },
  {
   "cell_type": "markdown",
   "metadata": {},
   "source": [
    "# Set up Console Access Library"
   ]
  },
  {
   "cell_type": "markdown",
   "metadata": {},
   "source": [
    "## Imports"
   ]
  },
  {
   "cell_type": "code",
   "execution_count": 2,
   "metadata": {},
   "outputs": [],
   "source": [
    "import errno\n",
    "import json\n",
    "from pathlib import Path\n",
    "\n",
    "import jsonschema\n",
    "from console_access_library.client import Client\n",
    "from console_access_library.common.config import Config"
   ]
  },
  {
   "cell_type": "markdown",
   "metadata": {},
   "source": [
    "## Load Configurations"
   ]
  },
  {
   "cell_type": "code",
   "execution_count": 3,
   "metadata": {},
   "outputs": [],
   "source": [
    "def validate_symlink(path: Path):\n",
    "    if path.is_symlink():\n",
    "        raise OSError(errno.ELOOP, f\"Symbolic link is not supported. Please use real folder or file\", f\"{path}\")\n",
    "\n",
    "configuration_path = Path(\"./configuration.json\")\n",
    "validate_symlink(configuration_path)\n",
    "\n",
    "# Load configuration file.\n",
    "with open(configuration_path, \"r\") as f:\n",
    "    json_load = json.load(f)\n",
    "\n",
    "configuration_schema_path = Path(\"./configuration_schema.json\")\n",
    "validate_symlink(configuration_schema_path)\n",
    "\n",
    "# Load configuration schema file.\n",
    "with open(configuration_schema_path, \"r\") as f:\n",
    "    json_schema = json.load(f)\n",
    "\n",
    "# Validate configration.\n",
    "jsonschema.validate(json_load, json_schema)"
   ]
  },
  {
   "cell_type": "markdown",
   "metadata": {},
   "source": [
    "## Create API Client"
   ]
  },
  {
   "cell_type": "code",
   "execution_count": 4,
   "metadata": {},
   "outputs": [],
   "source": [
    "# Instantiate Console Access Library Config.\n",
    "print(\"Create access lib client...\")\n",
    "\n",
    "try:\n",
    "    config_obj = Config(**json_load)\n",
    "except Exception as e:\n",
    "    # EXCEPTION\n",
    "    raise e\n",
    "\n",
    "# Check if access token can be obtained.\n",
    "print(\"Checking if access token can be obtained...\")\n",
    "\n",
    "try:\n",
    "    response = config_obj.get_access_token()\n",
    "\n",
    "except Exception as e:\n",
    "    # EXCEPTION\n",
    "    raise e\n",
    "\n",
    "# SUCCESS\n",
    "print(\"Access token successfully obtained.\")\n",
    "\n",
    "# Instantiate Console Access Library Client.\n",
    "client_obj = Client(config_obj)\n",
    "\n",
    "%store client_obj\n",
    "print(\"Console access lib client setup complete.\")"
   ]
  }
 ],
 "metadata": {
  "kernelspec": {
   "display_name": "Python 3 (ipykernel)",
   "language": "python",
   "name": "python3"
  },
  "language_info": {
   "codemirror_mode": {
    "name": "ipython",
    "version": 3
   },
   "file_extension": ".py",
   "mimetype": "text/x-python",
   "name": "python",
   "nbconvert_exporter": "python",
   "pygments_lexer": "ipython3",
   "version": "3.8.16"
  },
  "orig_nbformat": 4,
  "vscode": {
   "interpreter": {
    "hash": "949777d72b0d2535278d3dc13498b2535136f6dfe0678499012e853ee9abcab1"
   }
  }
 },
 "nbformat": 4,
 "nbformat_minor": 2
}
