{
 "cells": [
  {
   "cell_type": "code",
   "execution_count": null,
   "metadata": {},
   "outputs": [],
   "source": [
    "# Copyright 2023 Sony Semiconductor Solutions Corp. All rights reserved.\n",
    "#\n",
    "# Licensed under the Apache License, Version 2.0 (the \"License\");\n",
    "# you may not use this file except in compliance with the License.\n",
    "# You may obtain a copy of the License at\n",
    "#\n",
    "#     http://www.apache.org/licenses/LICENSE-2.0\n",
    "#\n",
    "# Unless required by applicable law or agreed to in writing, software\n",
    "# distributed under the License is distributed on an \"AS IS\" BASIS,\n",
    "# WITHOUT WARRANTIES OR CONDITIONS OF ANY KIND, either express or implied.\n",
    "# See the License for the specific language governing permissions and\n",
    "# limitations under the License."
   ]
  },
  {
   "attachments": {},
   "cell_type": "markdown",
   "metadata": {},
   "source": [
    "# Deserialize (for Inference result)\n",
    "This notebook explains the workflow for deserializing inference result. <br>\n",
    "Instructions are described in [README.md](./README.md)."
   ]
  },
  {
   "attachments": {},
   "cell_type": "markdown",
   "metadata": {},
   "source": [
    "## Imports"
   ]
  },
  {
   "cell_type": "code",
   "execution_count": null,
   "metadata": {},
   "outputs": [],
   "source": [
    "import base64\n",
    "import errno\n",
    "import json\n",
    "import os\n",
    "import subprocess\n",
    "import tempfile\n",
    "from pathlib import Path\n",
    "\n",
    "import jsonschema"
   ]
  },
  {
   "attachments": {},
   "cell_type": "markdown",
   "metadata": {},
   "source": [
    "## Load Configurations\n",
    "Load the configuration file and set the variables."
   ]
  },
  {
   "cell_type": "code",
   "execution_count": null,
   "metadata": {},
   "outputs": [],
   "source": [
    "def validate_symlink(path: Path):\n",
    "    if path.is_symlink():\n",
    "        raise OSError(\n",
    "            errno.ELOOP,\n",
    "            \"Symbolic link is not supported. Please use real folder or file\",\n",
    "            f\"{path}\",\n",
    "        )\n",
    "\n",
    "\n",
    "configuration_path = Path(\"./configuration.json\")\n",
    "validate_symlink(configuration_path)\n",
    "\n",
    "# Load configuration file\n",
    "with open(configuration_path, \"r\") as f:\n",
    "    json_load = json.load(f)\n",
    "\n",
    "configuration_schema_path = Path(\"./configuration_schema.json\")\n",
    "validate_symlink(configuration_schema_path)\n",
    "\n",
    "# Load configuration schema file\n",
    "with open(configuration_schema_path, \"r\") as f:\n",
    "    json_schema = json.load(f)\n",
    "\n",
    "# Validate configuration\n",
    "jsonschema.validate(json_load, json_schema)"
   ]
  },
  {
   "attachments": {},
   "cell_type": "markdown",
   "metadata": {},
   "source": [
    "## Check configuration parameters"
   ]
  },
  {
   "cell_type": "code",
   "execution_count": null,
   "metadata": {},
   "outputs": [],
   "source": [
    "def check_file_exist(path: Path):\n",
    "    if not os.path.isfile(path):\n",
    "        raise FileNotFoundError(f\"File is Not Found. ({path})\")\n",
    "\n",
    "\n",
    "def get_relative_path(path: Path, base_dir: Path):\n",
    "    resolve_path = path.resolve()\n",
    "    resolve_base_dir = base_dir.resolve()\n",
    "    relation_path = resolve_path.relative_to(resolve_base_dir)\n",
    "    return relation_path\n",
    "\n",
    "\n",
    "# check symlink\n",
    "schema_file = Path(json_load[\"schema_file\"].replace(os.path.sep, \"/\"))\n",
    "validate_symlink(schema_file)\n",
    "serialized_file = Path(json_load[\"serialized_file\"].replace(os.path.sep, \"/\"))\n",
    "validate_symlink(serialized_file)\n",
    "output_dir = Path(json_load.get(\"output_dir\", \"./\"))\n",
    "validate_symlink(output_dir)\n",
    "\n",
    "# File exist check\n",
    "check_file_exist(schema_file)\n",
    "check_file_exist(serialized_file)\n",
    "\n",
    "# set relation path\n",
    "base_dir = Path(\"./\")\n",
    "schema_file = get_relative_path(schema_file, base_dir)\n",
    "serialized_file = get_relative_path(serialized_file, base_dir)\n",
    "output_dir = get_relative_path(output_dir, base_dir)\n",
    "\n",
    "# output_dir check\n",
    "output_file = os.path.join(\n",
    "    output_dir, os.path.splitext(os.path.basename(serialized_file))[0] + \".json\"\n",
    ")\n",
    "if os.path.isfile(output_file):\n",
    "    raise FileExistsError(f\"File already exists. ({output_file})\")"
   ]
  },
  {
   "attachments": {},
   "cell_type": "markdown",
   "metadata": {},
   "source": [
    "## Deserialize\n"
   ]
  },
  {
   "cell_type": "code",
   "execution_count": null,
   "metadata": {},
   "outputs": [],
   "source": [
    "def decode(file_path: str):\n",
    "    # Load configuration schema file\n",
    "    with open(file_path, \"r\") as f:\n",
    "        base64_file = json.load(f)\n",
    "    # Get inference result\n",
    "    if (\n",
    "        \"Inferences\" in base64_file\n",
    "        and len(base64_file[\"Inferences\"]) > 0\n",
    "        and \"O\" in base64_file[\"Inferences\"][0]\n",
    "    ):\n",
    "        encoded_string = base64_file[\"Inferences\"][0][\"O\"]\n",
    "    else:\n",
    "        raise ValueError('\"Inferences\" - \"O\" property doesn\\'t exist in the json file')\n",
    "    # Base64 decode\n",
    "    buf_decode = base64.b64decode(encoded_string)\n",
    "\n",
    "    return buf_decode\n",
    "\n",
    "\n",
    "os.makedirs(output_dir, exist_ok=True)\n",
    "with tempfile.TemporaryDirectory(dir=output_dir) as temp_binary_dir:\n",
    "    if json_load[\"input_type\"] == \"json\":\n",
    "        buf = bytearray(decode(serialized_file))\n",
    "        binary_file = os.path.join(\n",
    "            temp_binary_dir,\n",
    "            os.path.splitext(os.path.basename(serialized_file))[0] + \".bin\",\n",
    "        )\n",
    "        with open(binary_file, \"wb\") as file:\n",
    "            file.write(buf)\n",
    "    else:\n",
    "        binary_file = serialized_file\n",
    "\n",
    "    proc = subprocess.run(\n",
    "        [\"./binary_to_json.sh\", f\"{schema_file}\", f\"{binary_file}\", f\"{output_dir}\"],\n",
    "        cwd=base_dir,\n",
    "        stdout=subprocess.PIPE,\n",
    "        stderr=subprocess.PIPE,\n",
    "        text=True,\n",
    "    )\n",
    "    if proc.returncode != 0:\n",
    "        raise ValueError(f\"Deserialize Error: {proc.stderr}\")\n",
    "    else:\n",
    "        print(\"file is deserialized.\")\n",
    "        print(\"Click the output file path below to view the deserialization results.\")\n",
    "        print(f\"\\toutput file path: ./{output_file}\")"
   ]
  }
 ],
 "metadata": {
  "kernelspec": {
   "display_name": "Python 3.8.14 64-bit",
   "language": "python",
   "name": "python3"
  },
  "language_info": {
   "codemirror_mode": {
    "name": "ipython",
    "version": 3
   },
   "file_extension": ".py",
   "mimetype": "text/x-python",
   "name": "python",
   "nbconvert_exporter": "python",
   "pygments_lexer": "ipython3",
   "version": "3.8.16"
  },
  "orig_nbformat": 4,
  "vscode": {
   "interpreter": {
    "hash": "949777d72b0d2535278d3dc13498b2535136f6dfe0678499012e853ee9abcab1"
   }
  }
 },
 "nbformat": 4,
 "nbformat_minor": 2
}
